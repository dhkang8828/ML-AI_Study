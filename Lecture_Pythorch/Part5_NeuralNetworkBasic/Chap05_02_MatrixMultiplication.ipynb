{
 "cells": [
  {
   "cell_type": "markdown",
   "id": "e0fc4bab",
   "metadata": {},
   "source": [
    "### Matrix Multiplication"
   ]
  },
  {
   "cell_type": "code",
   "execution_count": 2,
   "id": "2206d149",
   "metadata": {},
   "outputs": [],
   "source": [
    "import torch"
   ]
  },
  {
   "cell_type": "code",
   "execution_count": null,
   "id": "673533d3",
   "metadata": {},
   "outputs": [
    {
     "name": "stdout",
     "output_type": "stream",
     "text": [
      "x: tensor([[1., 2.],\n",
      "        [3., 4.],\n",
      "        [5., 6.]]), x.size(): torch.Size([3, 2])\n",
      "y: tensor([[1., 2.],\n",
      "        [1., 2.]]), y.size(): torch.Size([2, 2])\n"
     ]
    }
   ],
   "source": [
    "## 3x2 Matrix\n",
    "x = torch.FloatTensor([[1,2],\n",
    "                       [3,4],\n",
    "                       [5,6]])\n",
    "## 2x2 Matrix\n",
    "y = torch.FloatTensor([[1,2],\n",
    "                      [1,2]])\n",
    "print(f\"x: {x}, x.size(): {x.size()}\")\n",
    "print(f\"y: {y}, y.size(): {y.size()}\")"
   ]
  },
  {
   "cell_type": "code",
   "execution_count": null,
   "id": "d602b80a",
   "metadata": {},
   "outputs": [
    {
     "name": "stdout",
     "output_type": "stream",
     "text": [
      "z: tensor([[ 3.,  6.],\n",
      "        [ 7., 14.],\n",
      "        [11., 22.]]), z.size(): torch.Size([3, 2])\n"
     ]
    }
   ],
   "source": [
    "z = torch.matmul(x, y)\n",
    "print(f\"z: {z}, z.size(): {z.size()}\")\n",
    "## x * y => element-wise multiplication"
   ]
  },
  {
   "cell_type": "code",
   "execution_count": 13,
   "id": "1a1a3aec",
   "metadata": {},
   "outputs": [
    {
     "name": "stdout",
     "output_type": "stream",
     "text": [
      "x.size(): torch.Size([3, 3, 2])\n",
      "y.size(): torch.Size([3, 2, 3])\n",
      "z: tensor([[[  3.,   6.,   6.],\n",
      "         [  7.,  14.,  14.],\n",
      "         [ 11.,  22.,  22.]],\n",
      "\n",
      "        [[ 15.,  45.,  45.],\n",
      "         [ 19.,  57.,  57.],\n",
      "         [ 23.,  69.,  69.]],\n",
      "\n",
      "        [[ 27., 108., 108.],\n",
      "         [ 31., 124., 124.],\n",
      "         [ 35., 140., 140.]]]), z.size(): torch.Size([3, 3, 3])\n"
     ]
    }
   ],
   "source": [
    "## Batch Matrix Multiplication\n",
    "## 3x3x2 Matrix\n",
    "x = torch.FloatTensor([[[1,2],\n",
    "                        [3,4],\n",
    "                        [5,6]],\n",
    "                        [[7,8],\n",
    "                        [9,10],\n",
    "                        [11,12]],\n",
    "                        [[13,14],\n",
    "                        [15,16],\n",
    "                        [17,18]]])\n",
    "## 3x3x2 Matrix\n",
    "y = torch.FloatTensor([[[1, 2, 2],\n",
    "                        [1, 2, 2]],\n",
    "                        [[1, 3, 3],\n",
    "                        [1, 3, 3]],\n",
    "                        [[1, 4, 4],\n",
    "                        [1, 4, 4]]])\n",
    "print(f\"x.size(): {x.size()}\")\n",
    "print(f\"y.size(): {y.size()}\")\n",
    "\n",
    "z = torch.bmm(x,y)\n",
    "print(f\"z: {z}, z.size(): {z.size()}\")"
   ]
  },
  {
   "cell_type": "code",
   "execution_count": null,
   "id": "dc1c41e0",
   "metadata": {},
   "outputs": [],
   "source": []
  }
 ],
 "metadata": {
  "kernelspec": {
   "display_name": "dlenv",
   "language": "python",
   "name": "python3"
  },
  "language_info": {
   "codemirror_mode": {
    "name": "ipython",
    "version": 3
   },
   "file_extension": ".py",
   "mimetype": "text/x-python",
   "name": "python",
   "nbconvert_exporter": "python",
   "pygments_lexer": "ipython3",
   "version": "3.12.3"
  }
 },
 "nbformat": 4,
 "nbformat_minor": 5
}
