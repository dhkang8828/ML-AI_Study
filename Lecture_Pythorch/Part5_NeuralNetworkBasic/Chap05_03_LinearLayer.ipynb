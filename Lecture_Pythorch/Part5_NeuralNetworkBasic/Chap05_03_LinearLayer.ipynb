{
 "cells": [
  {
   "cell_type": "markdown",
   "id": "7b244baa",
   "metadata": {},
   "source": [
    "## Linear Layer"
   ]
  },
  {
   "cell_type": "code",
   "execution_count": 13,
   "id": "467baa29",
   "metadata": {},
   "outputs": [],
   "source": [
    "import torch"
   ]
  },
  {
   "cell_type": "code",
   "execution_count": 14,
   "id": "591d650c",
   "metadata": {},
   "outputs": [
    {
     "name": "stdout",
     "output_type": "stream",
     "text": [
      "W.size() = torch.Size([3, 2])  b.size() = torch.Size([2])\n"
     ]
    }
   ],
   "source": [
    "W = torch.FloatTensor([[1, 2],\n",
    "                    [3, 4],\n",
    "                    [5, 6]])\n",
    "b = torch.FloatTensor([1, 2])\n",
    "print(f\"W.size() = {W.size()}  b.size() = {b.size()}\")"
   ]
  },
  {
   "cell_type": "code",
   "execution_count": 15,
   "id": "6f4ac595",
   "metadata": {},
   "outputs": [],
   "source": [
    "def linear(x, W, b):\n",
    "    y = torch.matmul(x, W) + b\n",
    "    return y"
   ]
  },
  {
   "cell_type": "code",
   "execution_count": 16,
   "id": "7b3cc11a",
   "metadata": {},
   "outputs": [
    {
     "name": "stdout",
     "output_type": "stream",
     "text": [
      "x.size() = torch.Size([4, 3])\n"
     ]
    }
   ],
   "source": [
    "x = torch.FloatTensor([[1, 1, 1],\n",
    "                    [2,2,2],\n",
    "                    [3,3,3],\n",
    "                    [4,4,4]])\n",
    "print(f\"x.size() = {x.size()}\")"
   ]
  },
  {
   "cell_type": "code",
   "execution_count": 17,
   "id": "ce77f695",
   "metadata": {},
   "outputs": [
    {
     "name": "stdout",
     "output_type": "stream",
     "text": [
      "y:tensor([[10., 14.],\n",
      "        [19., 26.],\n",
      "        [28., 38.],\n",
      "        [37., 50.]])  y.size() = torch.Size([4, 2])\n"
     ]
    }
   ],
   "source": [
    "y = linear(x, W, b)\n",
    "print(f\"y:{y}  y.size() = {y.size()}\")"
   ]
  },
  {
   "cell_type": "markdown",
   "id": "b9f96905",
   "metadata": {},
   "source": [
    "## nn.Module"
   ]
  },
  {
   "cell_type": "code",
   "execution_count": 18,
   "id": "761c22e5",
   "metadata": {},
   "outputs": [],
   "source": [
    "import torch.nn as nn"
   ]
  },
  {
   "cell_type": "code",
   "execution_count": 19,
   "id": "75c76239",
   "metadata": {},
   "outputs": [],
   "source": [
    "class MyLinear(nn.Module):\n",
    "    def __init__(self, input_dim=3, output_dim=2):\n",
    "        self.input_dim = input_dim\n",
    "        self.output_dim = output_dim\n",
    "        super().__init__()\n",
    "        self.W = torch.FloatTensor(input_dim, output_dim)\n",
    "        self.b = torch.FloatTensor(output_dim)\n",
    "        \n",
    "    ## Should override 'forward' method to implement detail.\n",
    "    ## The input arguments and ouputs can be designed as you wish.\n",
    "    def forward(self, x):\n",
    "        ## |x| = (batch_size, input_dim)\n",
    "        y = torch.matmul(x, self.W) + self.b\n",
    "        print(f\"y.size() = {y.size()}\")\n",
    "        ## |y| = (batch_size, input_dim) * (input_dim, output_dim)\n",
    "        ##     = (batch_size, output_dim)\n",
    "        return y"
   ]
  },
  {
   "cell_type": "code",
   "execution_count": 20,
   "id": "f863fba4",
   "metadata": {},
   "outputs": [
    {
     "name": "stdout",
     "output_type": "stream",
     "text": [
      "y.size() = torch.Size([4, 2])\n"
     ]
    }
   ],
   "source": [
    "linear = MyLinear(input_dim=3, output_dim=2)\n",
    "y = linear(x)   ##linear(x) -> linear.__call__(x) -> linear.forward(x)"
   ]
  },
  {
   "cell_type": "code",
   "execution_count": 21,
   "id": "03774173",
   "metadata": {},
   "outputs": [],
   "source": [
    "for p in linear.parameters():\n",
    "    print(f\"p:{p}\")"
   ]
  },
  {
   "cell_type": "markdown",
   "id": "1be98e2f",
   "metadata": {},
   "source": [
    "## Correct Way to make MyLinear"
   ]
  },
  {
   "cell_type": "code",
   "execution_count": 22,
   "id": "1858c5fc",
   "metadata": {},
   "outputs": [],
   "source": [
    "class MyLinearParam(nn.Module):\n",
    "    def __init__(self, input_dim=3, output_dim=2):\n",
    "        self.input_dim = input_dim\n",
    "        self.output_dim = output_dim\n",
    "        super().__init__()\n",
    "        \n",
    "        self.W = nn.Parameter(torch.FloatTensor(input_dim, output_dim))\n",
    "        self.b = nn.Parameter(torch.FloatTensor(output_dim))\n",
    "        \n",
    "    def forward(self, x):\n",
    "        y = torch.matmul(x, self.W) + self.b\n",
    "        return y"
   ]
  },
  {
   "cell_type": "code",
   "execution_count": 23,
   "id": "64b58eed",
   "metadata": {},
   "outputs": [
    {
     "name": "stdout",
     "output_type": "stream",
     "text": [
      "y:tensor([[-4.8917e-04,  4.4504e-41],\n",
      "        [-4.8917e-04,  4.4666e-41],\n",
      "        [-4.8917e-04,  4.4829e-41],\n",
      "        [-4.8917e-04,  4.4991e-41]], grad_fn=<AddBackward0>), y.size():torch.Size([4, 2])\n"
     ]
    }
   ],
   "source": [
    "linear = MyLinearParam(3, 2)\n",
    "y = linear(x)\n",
    "print(f\"y:{y}, y.size():{y.size()}\")"
   ]
  },
  {
   "cell_type": "code",
   "execution_count": 25,
   "id": "aec904ce",
   "metadata": {},
   "outputs": [
    {
     "name": "stdout",
     "output_type": "stream",
     "text": [
      "p:Parameter containing:\n",
      "tensor([[2.0025e-20, 0.0000e+00],\n",
      "        [0.0000e+00, 0.0000e+00],\n",
      "        [0.0000e+00, 1.6255e-43]], requires_grad=True)\n",
      "p:Parameter containing:\n",
      "tensor([-4.8917e-04,  4.4341e-41], requires_grad=True)\n"
     ]
    }
   ],
   "source": [
    "for p in linear.parameters():\n",
    "    print(f\"p:{p}\")"
   ]
  },
  {
   "cell_type": "markdown",
   "id": "d585a18f",
   "metadata": {},
   "source": [
    "## nn.Linear"
   ]
  },
  {
   "cell_type": "code",
   "execution_count": 26,
   "id": "df55fa46",
   "metadata": {},
   "outputs": [
    {
     "name": "stdout",
     "output_type": "stream",
     "text": [
      "y:tensor([[0.2520, 0.6106],\n",
      "        [0.6632, 1.1232],\n",
      "        [1.0743, 1.6358],\n",
      "        [1.4855, 2.1483]], grad_fn=<AddmmBackward0>), y.size():torch.Size([4, 2])\n"
     ]
    }
   ],
   "source": [
    "linear = nn.Linear(3, 2)\n",
    "y = linear(x)\n",
    "\n",
    "print(f\"y:{y}, y.size():{y.size()}\")"
   ]
  },
  {
   "cell_type": "code",
   "execution_count": 28,
   "id": "cd9e08df",
   "metadata": {},
   "outputs": [
    {
     "name": "stdout",
     "output_type": "stream",
     "text": [
      "p: Parameter containing:\n",
      "tensor([[ 0.1722,  0.3245, -0.0856],\n",
      "        [ 0.3315,  0.4062, -0.2251]], requires_grad=True)\n",
      "p: Parameter containing:\n",
      "tensor([-0.1592,  0.0980], requires_grad=True)\n"
     ]
    }
   ],
   "source": [
    "for p in linear.parameters():\n",
    "    print(f\"p: {p}\")"
   ]
  },
  {
   "cell_type": "markdown",
   "id": "7b4907e5",
   "metadata": {},
   "source": [
    "### nn.Module Can contain other nn.Module's child classes"
   ]
  },
  {
   "cell_type": "code",
   "execution_count": 29,
   "id": "c63d44b8",
   "metadata": {},
   "outputs": [],
   "source": [
    "class MyLinearInner(nn.Module):\n",
    "    def __init__(self, input_dim=3, output_dim=2):\n",
    "        self.input_dim = input_dim\n",
    "        self.output_dim = output_dim\n",
    "        super().__init__()\n",
    "        \n",
    "        self.linear = nn.Linear(input_dim, output_dim)\n",
    "    \n",
    "    def forward(self, x):\n",
    "        ## |x| = (batch_size, input_dim)\n",
    "        y = self.linear(x)\n",
    "        ## |y| = (batci_size, ouput_dim)\n",
    "        \n",
    "        return y\n",
    "        \n"
   ]
  },
  {
   "cell_type": "code",
   "execution_count": 30,
   "id": "fbd553d2",
   "metadata": {},
   "outputs": [
    {
     "name": "stdout",
     "output_type": "stream",
     "text": [
      "y:tensor([[ 0.1872, -0.1505],\n",
      "        [ 0.2983, -0.1305],\n",
      "        [ 0.4093, -0.1105],\n",
      "        [ 0.5204, -0.0905]], grad_fn=<AddmmBackward0>), y.size():torch.Size([4, 2])\n"
     ]
    }
   ],
   "source": [
    "linear = MyLinearInner(3, 2)\n",
    "y = linear(x)\n",
    "\n",
    "print(f\"y:{y}, y.size():{y.size()}\")\n"
   ]
  },
  {
   "cell_type": "code",
   "execution_count": 31,
   "id": "100f8855",
   "metadata": {},
   "outputs": [
    {
     "name": "stdout",
     "output_type": "stream",
     "text": [
      "p: Parameter containing:\n",
      "tensor([[-0.0991,  0.3674, -0.1572],\n",
      "        [-0.4668,  0.3863,  0.1004]], requires_grad=True)\n",
      "p: Parameter containing:\n",
      "tensor([ 0.0762, -0.1704], requires_grad=True)\n"
     ]
    }
   ],
   "source": [
    "for p in linear.parameters():\n",
    "    print(f\"p: {p}\")"
   ]
  },
  {
   "cell_type": "code",
   "execution_count": null,
   "id": "e225a407",
   "metadata": {},
   "outputs": [],
   "source": []
  }
 ],
 "metadata": {
  "kernelspec": {
   "display_name": "dlenv",
   "language": "python",
   "name": "python3"
  },
  "language_info": {
   "codemirror_mode": {
    "name": "ipython",
    "version": 3
   },
   "file_extension": ".py",
   "mimetype": "text/x-python",
   "name": "python",
   "nbconvert_exporter": "python",
   "pygments_lexer": "ipython3",
   "version": "3.12.3"
  }
 },
 "nbformat": 4,
 "nbformat_minor": 5
}
