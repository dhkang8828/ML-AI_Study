{
 "cells": [
  {
   "cell_type": "markdown",
   "id": "6e9489bb",
   "metadata": {},
   "source": [
    "### How To Use GPU"
   ]
  },
  {
   "cell_type": "code",
   "execution_count": 1,
   "id": "e2c98413",
   "metadata": {},
   "outputs": [],
   "source": [
    "import torch\n",
    "import torch.nn as nn"
   ]
  },
  {
   "cell_type": "markdown",
   "id": "6c229576",
   "metadata": {},
   "source": [
    "### Convert to CUDA tensor: cuda()"
   ]
  },
  {
   "cell_type": "code",
   "execution_count": 15,
   "id": "8c249e8f",
   "metadata": {},
   "outputs": [
    {
     "name": "stdout",
     "output_type": "stream",
     "text": [
      "x: tensor([[8.7309e-29, 0.0000e+00],\n",
      "        [0.0000e+00, 0.0000e+00]], device='cuda:0'), x.device: cuda:0\n",
      "x: tensor([[6.0804e-24, 0.0000e+00, 2.0682e+21],\n",
      "        [4.3339e-41, 0.0000e+00, 4.3338e-41],\n",
      "        [1.5835e-43, 0.0000e+00, 7.1349e-25]]), x.device: cpu, x.cuda().device:cuda:0\n",
      "x: tensor([[6.0804e-24, 0.0000e+00, 2.0682e+21],\n",
      "        [4.3339e-41, 0.0000e+00, 4.3338e-41],\n",
      "        [1.5835e-43, 0.0000e+00, 7.1349e-25]]), device: cpu, x.cude(device=d).device: cuda:0\n"
     ]
    }
   ],
   "source": [
    "## x = torch.cuda.FloatTensor(2, 2)\n",
    "x = torch.FloatTensor(2, 2).cuda()\n",
    "print(f\"x: {x}, x.device: {x.device}\")\n",
    "\n",
    "x = torch.FloatTensor(3, 3)\n",
    "x.cuda()\n",
    "print(f\"x: {x}, x.device: {x.device}, x.cuda().device:{x.cuda().device}\")\n",
    "\n",
    "d = torch.device('cuda:0')\n",
    "x.cuda(device=d)\n",
    "print(f\"x: {x}, device: {x.device}, x.cude(device=d).device: {x.cuda(device=d).device}\")"
   ]
  },
  {
   "cell_type": "markdown",
   "id": "eae4c129",
   "metadata": {},
   "source": [
    "### Convert to CUDA Tensor: to()"
   ]
  },
  {
   "cell_type": "code",
   "execution_count": 16,
   "id": "568af052",
   "metadata": {},
   "outputs": [
    {
     "data": {
      "text/plain": [
       "tensor([[9.2106e-28, 0.0000e+00, 0.0000e+00, 0.0000e+00],\n",
       "        [0.0000e+00, 0.0000e+00, 0.0000e+00, 0.0000e+00],\n",
       "        [0.0000e+00, 0.0000e+00, 0.0000e+00, 0.0000e+00],\n",
       "        [0.0000e+00, 0.0000e+00, 0.0000e+00, 0.0000e+00]], device='cuda:0')"
      ]
     },
     "execution_count": 16,
     "metadata": {},
     "output_type": "execute_result"
    }
   ],
   "source": [
    "x = torch.FloatTensor(4, 4)\n",
    "x.to(device=d)"
   ]
  },
  {
   "cell_type": "markdown",
   "id": "da32ab54",
   "metadata": {},
   "source": [
    "### Convert to CPU Tensor From CUDA Tensor"
   ]
  },
  {
   "cell_type": "code",
   "execution_count": 19,
   "id": "60ac03a6",
   "metadata": {},
   "outputs": [],
   "source": [
    "x = torch.FloatTensor(3, 3).cuda()\n",
    "x = x.cpu()\n",
    "\n",
    "device_cpu = torch.device('cpu')\n",
    "x = x.to(device=device_cpu)\n"
   ]
  },
  {
   "cell_type": "markdown",
   "id": "9030a83a",
   "metadata": {},
   "source": [
    "### Move Model from CPU to GPU."
   ]
  },
  {
   "cell_type": "code",
   "execution_count": 22,
   "id": "d9f10fa8",
   "metadata": {},
   "outputs": [],
   "source": [
    "def print_params(model):\n",
    "    for idx, p in enumerate (model.parameters()):\n",
    "        print(f\"index{idx}: p:{p}\")"
   ]
  },
  {
   "cell_type": "code",
   "execution_count": 23,
   "id": "5ffa770e",
   "metadata": {},
   "outputs": [
    {
     "name": "stdout",
     "output_type": "stream",
     "text": [
      "index0: p:Parameter containing:\n",
      "tensor([[-0.6958, -0.2645],\n",
      "        [ 0.4056,  0.7016]], requires_grad=True)\n",
      "index1: p:Parameter containing:\n",
      "tensor([-0.5570,  0.4753], requires_grad=True)\n"
     ]
    }
   ],
   "source": [
    "linear = nn.Linear(2, 2)\n",
    "print_params(linear)"
   ]
  },
  {
   "cell_type": "code",
   "execution_count": 24,
   "id": "949e7a32",
   "metadata": {},
   "outputs": [
    {
     "name": "stdout",
     "output_type": "stream",
     "text": [
      "index0: p:Parameter containing:\n",
      "tensor([[-0.6958, -0.2645],\n",
      "        [ 0.4056,  0.7016]], device='cuda:0', requires_grad=True)\n",
      "index1: p:Parameter containing:\n",
      "tensor([-0.5570,  0.4753], device='cuda:0', requires_grad=True)\n"
     ]
    }
   ],
   "source": [
    "linear = linear.cuda()\n",
    "print_params(linear)"
   ]
  },
  {
   "cell_type": "code",
   "execution_count": 25,
   "id": "5e00ba8a",
   "metadata": {},
   "outputs": [
    {
     "name": "stdout",
     "output_type": "stream",
     "text": [
      "index0: p:Parameter containing:\n",
      "tensor([[-0.6958, -0.2645],\n",
      "        [ 0.4056,  0.7016]], requires_grad=True)\n",
      "index1: p:Parameter containing:\n",
      "tensor([-0.5570,  0.4753], requires_grad=True)\n"
     ]
    }
   ],
   "source": [
    "linear = linear.cpu()\n",
    "print_params(linear)"
   ]
  },
  {
   "cell_type": "code",
   "execution_count": 26,
   "id": "500db907",
   "metadata": {},
   "outputs": [
    {
     "name": "stdout",
     "output_type": "stream",
     "text": [
      "index0: p:Parameter containing:\n",
      "tensor([[-0.6958, -0.2645],\n",
      "        [ 0.4056,  0.7016]], device='cuda:0', requires_grad=True)\n",
      "index1: p:Parameter containing:\n",
      "tensor([-0.5570,  0.4753], device='cuda:0', requires_grad=True)\n"
     ]
    }
   ],
   "source": [
    "d = torch.device('cuda:0')\n",
    "linear = linear.to(d)\n",
    "print_params(linear)"
   ]
  },
  {
   "cell_type": "code",
   "execution_count": 28,
   "id": "58e440e3",
   "metadata": {},
   "outputs": [],
   "source": [
    "## linear.device ## AttributeError! "
   ]
  },
  {
   "cell_type": "markdown",
   "id": "640f0cd8",
   "metadata": {},
   "source": [
    "### Tricks"
   ]
  },
  {
   "cell_type": "code",
   "execution_count": null,
   "id": "b348f61c",
   "metadata": {},
   "outputs": [
    {
     "data": {
      "text/plain": [
       "tensor([[3.6893e+19, 1.7376e+00],\n",
       "        [4.0559e-01, 7.0158e-01]], device='cuda:0')"
      ]
     },
     "execution_count": 29,
     "metadata": {},
     "output_type": "execute_result"
    }
   ],
   "source": [
    "x = torch.FloatTensor(3, 3).cuda()\n",
    "x.new(2, 2) ## x와 같은 type이며 같은 device에 있는 Tensor 생성"
   ]
  },
  {
   "cell_type": "code",
   "execution_count": 32,
   "id": "53ad8266",
   "metadata": {},
   "outputs": [
    {
     "name": "stdout",
     "output_type": "stream",
     "text": [
      "tensor([[0., 0., 0.],\n",
      "        [0., 0., 0.],\n",
      "        [0., 0., 0.]], device='cuda:0')\n",
      "tensor([[1., 1., 1.],\n",
      "        [1., 1., 1.],\n",
      "        [1., 1., 1.]], device='cuda:0')\n"
     ]
    }
   ],
   "source": [
    "print(torch.zeros_like(x)) ## x와 같은 type이며 같은 device에 있는 Tensor (0으로 초기화)\n",
    "print(torch.ones_like(x)) ## x와 같은 type이며 같은 device에 있는 Tensor (1으로 초기화)"
   ]
  },
  {
   "cell_type": "code",
   "execution_count": 35,
   "id": "819872fa",
   "metadata": {},
   "outputs": [
    {
     "data": {
      "text/plain": [
       "tensor([[-0.6958, -0.2645],\n",
       "        [ 0.4056,  0.7016]], device='cuda:0')"
      ]
     },
     "execution_count": 35,
     "metadata": {},
     "output_type": "execute_result"
    }
   ],
   "source": [
    "list(linear.parameters())[0].new(2, 2)"
   ]
  },
  {
   "cell_type": "code",
   "execution_count": null,
   "id": "6eedba96",
   "metadata": {},
   "outputs": [],
   "source": []
  }
 ],
 "metadata": {
  "kernelspec": {
   "display_name": "dlenv",
   "language": "python",
   "name": "python3"
  },
  "language_info": {
   "codemirror_mode": {
    "name": "ipython",
    "version": 3
   },
   "file_extension": ".py",
   "mimetype": "text/x-python",
   "name": "python",
   "nbconvert_exporter": "python",
   "pygments_lexer": "ipython3",
   "version": "3.12.3"
  }
 },
 "nbformat": 4,
 "nbformat_minor": 5
}
