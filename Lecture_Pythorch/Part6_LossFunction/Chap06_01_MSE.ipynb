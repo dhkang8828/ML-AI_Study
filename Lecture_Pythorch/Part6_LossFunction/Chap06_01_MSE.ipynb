{
 "cells": [
  {
   "cell_type": "markdown",
   "id": "af874432",
   "metadata": {},
   "source": [
    "### MSE (Mean Square Error) Loss"
   ]
  },
  {
   "cell_type": "code",
   "execution_count": 34,
   "id": "5d01a6b8",
   "metadata": {},
   "outputs": [],
   "source": [
    "import torch"
   ]
  },
  {
   "cell_type": "code",
   "execution_count": 35,
   "id": "1ba0a0f1",
   "metadata": {},
   "outputs": [],
   "source": [
    "def mse(x_hat, x):\n",
    "    ## |x_hat| = (batch_size, dim)\n",
    "    ## |x| = (batch_size, dim)\n",
    "    y = ((x-x_hat)**2).mean()\n",
    "    return y"
   ]
  },
  {
   "cell_type": "code",
   "execution_count": 36,
   "id": "5e08deb6",
   "metadata": {},
   "outputs": [
    {
     "name": "stdout",
     "output_type": "stream",
     "text": [
      "x.size(): torch.Size([2, 2]), x_hat.size():torch.Size([2, 2])\n"
     ]
    }
   ],
   "source": [
    "x = torch.FloatTensor([[1, 1],\n",
    "                       [2, 2]])\n",
    "x_hat = torch.FloatTensor([[0, 0],\n",
    "                           [0, 0]])\n",
    "print(f\"x.size(): {x.size()}, x_hat.size():{x_hat.size()}\")"
   ]
  },
  {
   "cell_type": "code",
   "execution_count": 37,
   "id": "42a2dec4",
   "metadata": {},
   "outputs": [
    {
     "name": "stdout",
     "output_type": "stream",
     "text": [
      "result: 2.5\n"
     ]
    }
   ],
   "source": [
    "result = mse(x, x_hat)\n",
    "print(f\"result: {result}\")"
   ]
  },
  {
   "cell_type": "markdown",
   "id": "a49eb407",
   "metadata": {},
   "source": [
    "### Predefined MSE in PyTorch"
   ]
  },
  {
   "cell_type": "code",
   "execution_count": 38,
   "id": "90d30226",
   "metadata": {},
   "outputs": [],
   "source": [
    "import torch.nn.functional as F"
   ]
  },
  {
   "cell_type": "code",
   "execution_count": 39,
   "id": "57f170e3",
   "metadata": {},
   "outputs": [
    {
     "data": {
      "text/plain": [
       "tensor(2.5000)"
      ]
     },
     "execution_count": 39,
     "metadata": {},
     "output_type": "execute_result"
    }
   ],
   "source": [
    "F.mse_loss(x_hat, x)"
   ]
  },
  {
   "cell_type": "code",
   "execution_count": 40,
   "id": "68410796",
   "metadata": {},
   "outputs": [
    {
     "data": {
      "text/plain": [
       "tensor(10.)"
      ]
     },
     "execution_count": 40,
     "metadata": {},
     "output_type": "execute_result"
    }
   ],
   "source": [
    "## reduction: default=min\n",
    "F.mse_loss(x_hat, x, reduction='sum')\n",
    "## reduction: 위의 mean()을 sum()으로 바꾼것"
   ]
  },
  {
   "cell_type": "code",
   "execution_count": 41,
   "id": "2ecd88db",
   "metadata": {},
   "outputs": [
    {
     "data": {
      "text/plain": [
       "tensor([[1., 1.],\n",
       "        [4., 4.]])"
      ]
     },
     "execution_count": 41,
     "metadata": {},
     "output_type": "execute_result"
    }
   ],
   "source": [
    "F.mse_loss(x_hat, x, reduction='none')\n",
    "## reduction:을 하지 않겠다는 것은 차원 축소를 하지 않겠다. "
   ]
  },
  {
   "cell_type": "code",
   "execution_count": 42,
   "id": "bafaeefd",
   "metadata": {},
   "outputs": [
    {
     "data": {
      "text/plain": [
       "tensor(2.5000)"
      ]
     },
     "execution_count": 42,
     "metadata": {},
     "output_type": "execute_result"
    }
   ],
   "source": [
    "import torch.nn as nn\n",
    "\n",
    "mse_loss = nn.MSELoss()\n",
    "mse_loss(x_hat, x)"
   ]
  },
  {
   "cell_type": "code",
   "execution_count": null,
   "id": "48048944",
   "metadata": {},
   "outputs": [],
   "source": []
  }
 ],
 "metadata": {
  "kernelspec": {
   "display_name": "dlenv",
   "language": "python",
   "name": "python3"
  },
  "language_info": {
   "codemirror_mode": {
    "name": "ipython",
    "version": 3
   },
   "file_extension": ".py",
   "mimetype": "text/x-python",
   "name": "python",
   "nbconvert_exporter": "python",
   "pygments_lexer": "ipython3",
   "version": "3.12.3"
  }
 },
 "nbformat": 4,
 "nbformat_minor": 5
}
