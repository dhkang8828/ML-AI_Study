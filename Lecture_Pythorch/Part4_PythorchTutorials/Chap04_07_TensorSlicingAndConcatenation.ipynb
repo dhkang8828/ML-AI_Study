{
 "cells": [
  {
   "cell_type": "markdown",
   "id": "8c0200ac",
   "metadata": {},
   "source": [
    "## Pythorch Tensor Slicing and Concatenation"
   ]
  },
  {
   "cell_type": "markdown",
   "id": "4ccb2a40",
   "metadata": {},
   "source": [
    "### Slicing and Concatenation"
   ]
  },
  {
   "cell_type": "markdown",
   "id": "16015713",
   "metadata": {},
   "source": [
    "#### indexing and Slicing"
   ]
  },
  {
   "cell_type": "code",
   "execution_count": 1,
   "id": "924748ca",
   "metadata": {},
   "outputs": [],
   "source": [
    "import torch"
   ]
  },
  {
   "cell_type": "code",
   "execution_count": 2,
   "id": "bedcd6af",
   "metadata": {},
   "outputs": [
    {
     "name": "stdout",
     "output_type": "stream",
     "text": [
      "x:tensor([[[ 0.,  1.,  2.,  3.,  4.],\n",
      "         [ 5.,  6.,  7.,  8.,  9.],\n",
      "         [10., 11., 12., 13., 14.],\n",
      "         [15., 16., 17., 18., 19.]],\n",
      "\n",
      "        [[20., 21., 22., 23., 24.],\n",
      "         [25., 26., 27., 28., 29.],\n",
      "         [30., 31., 32., 33., 34.],\n",
      "         [35., 36., 37., 38., 39.]],\n",
      "\n",
      "        [[40., 41., 42., 43., 44.],\n",
      "         [45., 46., 47., 48., 49.],\n",
      "         [50., 51., 52., 53., 54.],\n",
      "         [55., 56., 57., 58., 59.]]]), size:torch.Size([3, 4, 5])\n"
     ]
    }
   ],
   "source": [
    "dim = 3\n",
    "row = 4\n",
    "col = 5 \n",
    "data = [[[i*(row*col) + j*col + k for k in range(col)] for j in range(row)] for i in range(dim)]\n",
    "x = torch.FloatTensor(data)\n",
    "print(f\"x:{x}, size:{x.size()}\")"
   ]
  },
  {
   "cell_type": "code",
   "execution_count": 6,
   "id": "7dd2f495",
   "metadata": {},
   "outputs": [
    {
     "name": "stdout",
     "output_type": "stream",
     "text": [
      "x[0]: tensor([[ 0.,  1.,  2.,  3.,  4.],\n",
      "        [ 5.,  6.,  7.,  8.,  9.],\n",
      "        [10., 11., 12., 13., 14.],\n",
      "        [15., 16., 17., 18., 19.]]), size:torch.Size([4, 5])\n",
      "x[0,:]: tensor([[ 0.,  1.,  2.,  3.,  4.],\n",
      "        [ 5.,  6.,  7.,  8.,  9.],\n",
      "        [10., 11., 12., 13., 14.],\n",
      "        [15., 16., 17., 18., 19.]]), size:torch.Size([4, 5])\n",
      "x[0, :, :]: tensor([[ 0.,  1.,  2.,  3.,  4.],\n",
      "        [ 5.,  6.,  7.,  8.,  9.],\n",
      "        [10., 11., 12., 13., 14.],\n",
      "        [15., 16., 17., 18., 19.]])\n"
     ]
    }
   ],
   "source": [
    "## Slicing \n",
    "print(f\"x[0]: {x[0]}, size:{x[0].size()}\")\n",
    "print(f\"x[0,:]: {x[0,:]}, size:{x[0,:].size()}\")\n",
    "print(f\"x[0, :, :]: {x[0, :, :]}\" )"
   ]
  },
  {
   "cell_type": "code",
   "execution_count": 11,
   "id": "ae91fc17",
   "metadata": {},
   "outputs": [
    {
     "name": "stdout",
     "output_type": "stream",
     "text": [
      "x[-1]:  tensor([[40., 41., 42., 43., 44.],\n",
      "        [45., 46., 47., 48., 49.],\n",
      "        [50., 51., 52., 53., 54.],\n",
      "        [55., 56., 57., 58., 59.]])\n",
      "x[-1, :] = \n",
      "tensor([[40., 41., 42., 43., 44.],\n",
      "        [45., 46., 47., 48., 49.],\n",
      "        [50., 51., 52., 53., 54.],\n",
      "        [55., 56., 57., 58., 59.]])\n",
      "x[-1, :, :] = \n",
      "tensor([[40., 41., 42., 43., 44.],\n",
      "        [45., 46., 47., 48., 49.],\n",
      "        [50., 51., 52., 53., 54.],\n",
      "        [55., 56., 57., 58., 59.]])\n"
     ]
    }
   ],
   "source": [
    "## Slicing \n",
    "print(f\"x[-1]:  {x[-1]}\")\n",
    "print(f\"x[-1, :] = \\n{x[-1, :]}\")\n",
    "print(f\"x[-1, :, :] = \\n{x[-1, :, :]}\")"
   ]
  },
  {
   "cell_type": "code",
   "execution_count": null,
   "id": "67d8fe75",
   "metadata": {},
   "outputs": [
    {
     "name": "stdout",
     "output_type": "stream",
     "text": [
      "x[:, 0, :] = \n",
      "tensor([[ 0.,  1.,  2.,  3.,  4.],\n",
      "        [20., 21., 22., 23., 24.],\n",
      "        [40., 41., 42., 43., 44.]])\n",
      "size: torch.Size([3, 5])\n"
     ]
    }
   ],
   "source": [
    "## Slicing - 2번째 dimension의 0번째 index 모두 가져와라\n",
    "print(f\"x[:, 0, :] = \\n{x[:, 0, :]}\\nsize: {x[:, 0, :].size()}\")"
   ]
  },
  {
   "cell_type": "code",
   "execution_count": 16,
   "id": "235ed8c3",
   "metadata": {},
   "outputs": [
    {
     "name": "stdout",
     "output_type": "stream",
     "text": [
      "x[1:3, :, :] = \n",
      "tensor([[[20., 21., 22., 23., 24.],\n",
      "         [25., 26., 27., 28., 29.],\n",
      "         [30., 31., 32., 33., 34.],\n",
      "         [35., 36., 37., 38., 39.]],\n",
      "\n",
      "        [[40., 41., 42., 43., 44.],\n",
      "         [45., 46., 47., 48., 49.],\n",
      "         [50., 51., 52., 53., 54.],\n",
      "         [55., 56., 57., 58., 59.]]])\n",
      "size: torch.Size([2, 4, 5])\n",
      "x[:, :1, :] = \n",
      "tensor([[[ 0.,  1.,  2.,  3.,  4.]],\n",
      "\n",
      "        [[20., 21., 22., 23., 24.]],\n",
      "\n",
      "        [[40., 41., 42., 43., 44.]]])\n",
      "size: torch.Size([3, 1, 5])\n",
      "x[:, :-1, :] = \n",
      "tensor([[[ 0.,  1.,  2.,  3.,  4.],\n",
      "         [ 5.,  6.,  7.,  8.,  9.],\n",
      "         [10., 11., 12., 13., 14.]],\n",
      "\n",
      "        [[20., 21., 22., 23., 24.],\n",
      "         [25., 26., 27., 28., 29.],\n",
      "         [30., 31., 32., 33., 34.]],\n",
      "\n",
      "        [[40., 41., 42., 43., 44.],\n",
      "         [45., 46., 47., 48., 49.],\n",
      "         [50., 51., 52., 53., 54.]]])\n",
      "size: torch.Size([3, 3, 5])\n"
     ]
    }
   ],
   "source": [
    "## Range Access\n",
    "## x[1:3, :, :] 2번째 index부터 3번째 index까지 가져와라\n",
    "print(f\"x[1:3, :, :] = \\n{x[1:3, :, :]}\\nsize: {x[1:3, :, :].size()}\")\n",
    "##Range의 특징은 1개일지라도 dimension이 없어지지 않는다.\n",
    "print(f\"x[:, :1, :] = \\n{x[:, :1, :]}\\nsize: {x[:, :1, :].size()}\") \n",
    "print(f\"x[:, :-1, :] = \\n{x[:, :-1, :]}\\nsize: {x[:, :-1, :].size()}\")"
   ]
  },
  {
   "cell_type": "markdown",
   "id": "403a9735",
   "metadata": {},
   "source": [
    "### Split: Split Tensor to desirable shape."
   ]
  },
  {
   "cell_type": "code",
   "execution_count": 17,
   "id": "10c9452b",
   "metadata": {},
   "outputs": [
    {
     "name": "stdout",
     "output_type": "stream",
     "text": [
      "s:tensor([[1.0124e-20, 0.0000e+00, 0.0000e+00, 0.0000e+00],\n",
      "        [2.4000e+01, 2.5000e+01, 2.6000e+01, 2.7000e+01],\n",
      "        [2.8000e+01, 2.9000e+01, 3.0000e+01, 3.1000e+01],\n",
      "        [3.2000e+01, 3.3000e+01, 3.4000e+01, 3.5000e+01]]), size:torch.Size([4, 4])\n",
      "s:tensor([[36., 37., 38., 39.],\n",
      "        [40., 41., 42., 43.],\n",
      "        [44., 45., 46., 47.],\n",
      "        [48., 49., 50., 51.]]), size:torch.Size([4, 4])\n",
      "s:tensor([[52., 53., 54., 55.],\n",
      "        [56., 57., 58., 59.]]), size:torch.Size([2, 4])\n"
     ]
    }
   ],
   "source": [
    "x = torch.FloatTensor(10, 4) ## 10x4 Tensor\n",
    "splits = x.split(4, dim=0)\n",
    "\n",
    "for s in splits:\n",
    "    print(f\"s:{s}, size:{s.size()}\")"
   ]
  },
  {
   "cell_type": "markdown",
   "id": "180b9402",
   "metadata": {},
   "source": [
    "### Chunk: Split tensor to number of Chunks"
   ]
  },
  {
   "cell_type": "code",
   "execution_count": 18,
   "id": "8eda95f6",
   "metadata": {},
   "outputs": [
    {
     "name": "stdout",
     "output_type": "stream",
     "text": [
      "c:tensor([[             125482,                   0,                   0,\n",
      "                           0],\n",
      "        [                  0, 7235419174270214779, 3689399400580266530,\n",
      "         3618985543144124774],\n",
      "        [3487302567453931875, 3617854187786811494, 3832949646228141872,\n",
      "         3907210438864024369]]), size:torch.Size([3, 4])\n",
      "c:tensor([[6874590268765514786, 2459029315949459828, 6874028453778520165,\n",
      "         2318265813094655346],\n",
      "        [7881702260482471202, 7739546057368543845, 8296228837497728609,\n",
      "         4189032028197581669],\n",
      "        [3559588851250176544, 4135204104193270369, 4063988925762725222,\n",
      "         3976733675042058289]]), size:torch.Size([3, 4])\n",
      "c:tensor([[7215364926928664931, 3612485285161825377, 3615606755904795184,\n",
      "         4193750903543714864],\n",
      "        [4121128130547953973, 7311068566657325624, 2322206415573840754,\n",
      "         7233200062374753570]]), size:torch.Size([2, 4])\n"
     ]
    }
   ],
   "source": [
    "x = torch.LongTensor(8, 4)\n",
    "chunks = x.chunk(3, dim=0)\n",
    "for c in chunks:\n",
    "    print(f\"c:{c}, size:{c.size()}\")"
   ]
  },
  {
   "cell_type": "markdown",
   "id": "18583e30",
   "metadata": {},
   "source": [
    "### index_select: Select elements by using dimension index."
   ]
  },
  {
   "cell_type": "code",
   "execution_count": 22,
   "id": "4e7f4dc3",
   "metadata": {},
   "outputs": [
    {
     "name": "stdout",
     "output_type": "stream",
     "text": [
      "x.size(): torch.Size([3, 4, 5])\n"
     ]
    }
   ],
   "source": [
    "x = torch.FloatTensor(data)\n",
    "indice = torch.LongTensor([2,1])\n",
    "print(f\"x.size(): {x.size()}\")\n"
   ]
  },
  {
   "cell_type": "code",
   "execution_count": 23,
   "id": "0a68d06e",
   "metadata": {},
   "outputs": [
    {
     "name": "stdout",
     "output_type": "stream",
     "text": [
      "y:tensor([[[40., 41., 42., 43., 44.],\n",
      "         [45., 46., 47., 48., 49.],\n",
      "         [50., 51., 52., 53., 54.],\n",
      "         [55., 56., 57., 58., 59.]],\n",
      "\n",
      "        [[20., 21., 22., 23., 24.],\n",
      "         [25., 26., 27., 28., 29.],\n",
      "         [30., 31., 32., 33., 34.],\n",
      "         [35., 36., 37., 38., 39.]]]), size: torch.Size([2, 4, 5])\n"
     ]
    }
   ],
   "source": [
    "y = x.index_select(dim=0, index=indice)\n",
    "print(f\"y:{y}, size: {y.size()}\")"
   ]
  },
  {
   "cell_type": "markdown",
   "id": "08c03f6d",
   "metadata": {},
   "source": [
    "### CAT: Concatenation of Multiple Tensors in the list."
   ]
  },
  {
   "cell_type": "code",
   "execution_count": 24,
   "id": "4e0aae6a",
   "metadata": {},
   "outputs": [
    {
     "name": "stdout",
     "output_type": "stream",
     "text": [
      "x.size(): torch.Size([3, 3]), y.size(): torch.Size([3, 3])\n"
     ]
    }
   ],
   "source": [
    "x = torch.FloatTensor([[1, 2, 3],\n",
    "                    [4, 5, 6],\n",
    "                    [7, 8, 9]])\n",
    "y = torch.FloatTensor([[10, 11, 12],\n",
    "                    [13, 14, 15],\n",
    "                    [16, 17, 18]])\n",
    "print(f\"x.size(): {x.size()}, y.size(): {y.size()}\")"
   ]
  },
  {
   "cell_type": "code",
   "execution_count": 25,
   "id": "b78d5dee",
   "metadata": {},
   "outputs": [
    {
     "name": "stdout",
     "output_type": "stream",
     "text": [
      "z:tensor([[ 1.,  2.,  3.],\n",
      "        [ 4.,  5.,  6.],\n",
      "        [ 7.,  8.,  9.],\n",
      "        [10., 11., 12.],\n",
      "        [13., 14., 15.],\n",
      "        [16., 17., 18.]]), size: torch.Size([6, 3])\n"
     ]
    }
   ],
   "source": [
    "z = torch.cat([x, y], dim=0)\n",
    "print(f\"z:{z}, size: {z.size()}\")"
   ]
  },
  {
   "cell_type": "code",
   "execution_count": 26,
   "id": "70e426e9",
   "metadata": {},
   "outputs": [
    {
     "name": "stdout",
     "output_type": "stream",
     "text": [
      "z:tensor([[ 1.,  2.,  3., 10., 11., 12.],\n",
      "        [ 4.,  5.,  6., 13., 14., 15.],\n",
      "        [ 7.,  8.,  9., 16., 17., 18.]]), size: torch.Size([3, 6])\n"
     ]
    }
   ],
   "source": [
    "z = torch.cat([x, y], dim=-1)\n",
    "print(f\"z:{z}, size: {z.size()}\")"
   ]
  },
  {
   "cell_type": "markdown",
   "id": "85931d9a",
   "metadata": {},
   "source": [
    "### Stack: Stacking of multiple tensors in the list"
   ]
  },
  {
   "cell_type": "code",
   "execution_count": null,
   "id": "702e22df",
   "metadata": {},
   "outputs": [
    {
     "name": "stdout",
     "output_type": "stream",
     "text": [
      "z:tensor([[[ 1.,  2.,  3.],\n",
      "         [ 4.,  5.,  6.],\n",
      "         [ 7.,  8.,  9.]],\n",
      "\n",
      "        [[10., 11., 12.],\n",
      "         [13., 14., 15.],\n",
      "         [16., 17., 18.]]]), size: torch.Size([2, 3, 3])\n"
     ]
    }
   ],
   "source": [
    "## 쌓는다?! = 차원이 하나 더 생긴다.\n",
    "z = torch.stack([x, y], dim=0)\n",
    "## step1) 3x3 -> 1x3x3\n",
    "## step2) 1x3x3 matrix -> 2x3x3 matrix\n",
    "print(f\"z:{z}, size: {z.size()}\")\n"
   ]
  },
  {
   "cell_type": "code",
   "execution_count": 30,
   "id": "d540e53f",
   "metadata": {},
   "outputs": [
    {
     "name": "stdout",
     "output_type": "stream",
     "text": [
      "z:tensor([[[ 1., 10.],\n",
      "         [ 2., 11.],\n",
      "         [ 3., 12.]],\n",
      "\n",
      "        [[ 4., 13.],\n",
      "         [ 5., 14.],\n",
      "         [ 6., 15.]],\n",
      "\n",
      "        [[ 7., 16.],\n",
      "         [ 8., 17.],\n",
      "         [ 9., 18.]]]), size: torch.Size([3, 3, 2])\n"
     ]
    }
   ],
   "source": [
    "z = torch.stack([x, y], dim=-1)\n",
    "## step1) 3x3 -> 3x3x1\n",
    "## step2) 3x3x1 matrix -> 3x3x2 matrix\n",
    "print(f\"z:{z}, size: {z.size()}\")"
   ]
  },
  {
   "cell_type": "markdown",
   "id": "2b171ed7",
   "metadata": {},
   "source": [
    "#### Implement 'stack' function by using cat."
   ]
  },
  {
   "cell_type": "code",
   "execution_count": 32,
   "id": "8fda7559",
   "metadata": {},
   "outputs": [
    {
     "name": "stdout",
     "output_type": "stream",
     "text": [
      "z:tensor([[[ 1.,  2.,  3.],\n",
      "         [ 4.,  5.,  6.],\n",
      "         [ 7.,  8.,  9.]],\n",
      "\n",
      "        [[10., 11., 12.],\n",
      "         [13., 14., 15.],\n",
      "         [16., 17., 18.]]]), size: torch.Size([2, 3, 3])\n"
     ]
    }
   ],
   "source": [
    "z = torch.cat([x.unsqueeze(0), y.unsqueeze(0)], dim=0)\n",
    "print(f\"z:{z}, size: {z.size()}\")"
   ]
  },
  {
   "cell_type": "markdown",
   "id": "cef82435",
   "metadata": {},
   "source": [
    "### Useful Trick: Merge Results from iterations"
   ]
  },
  {
   "cell_type": "code",
   "execution_count": null,
   "id": "54ea4565",
   "metadata": {},
   "outputs": [],
   "source": [
    "result = []\n",
    "for i in range(5):\n",
    "    x = torch.FloatTensor(2,2)\n",
    "    result += [x]\n",
    "    \n",
    "result = torch.stack(result)\n",
    "result.size()  # torch.Size([5, 2, 2])"
   ]
  }
 ],
 "metadata": {
  "kernelspec": {
   "display_name": "dlenv",
   "language": "python",
   "name": "python3"
  },
  "language_info": {
   "codemirror_mode": {
    "name": "ipython",
    "version": 3
   },
   "file_extension": ".py",
   "mimetype": "text/x-python",
   "name": "python",
   "nbconvert_exporter": "python",
   "pygments_lexer": "ipython3",
   "version": "3.12.3"
  }
 },
 "nbformat": 4,
 "nbformat_minor": 5
}
