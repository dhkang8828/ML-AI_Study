{
 "cells": [
  {
   "cell_type": "markdown",
   "id": "c52129c2",
   "metadata": {},
   "source": [
    "## Pythorch Tensor Manipulations"
   ]
  },
  {
   "cell_type": "code",
   "execution_count": 2,
   "id": "040f6714",
   "metadata": {},
   "outputs": [],
   "source": [
    "import torch"
   ]
  },
  {
   "cell_type": "markdown",
   "id": "2375b254",
   "metadata": {},
   "source": [
    "### Tensor Shaping\n",
    "#### Reshape: Change Tensor Shape"
   ]
  },
  {
   "cell_type": "code",
   "execution_count": 3,
   "id": "7b38325f",
   "metadata": {},
   "outputs": [
    {
     "name": "stdout",
     "output_type": "stream",
     "text": [
      "x:\n",
      "tensor([[[ 0.,  1.,  2.,  3.,  4.],\n",
      "         [ 5.,  6.,  7.,  8.,  9.],\n",
      "         [10., 11., 12., 13., 14.],\n",
      "         [15., 16., 17., 18., 19.]],\n",
      "\n",
      "        [[20., 21., 22., 23., 24.],\n",
      "         [25., 26., 27., 28., 29.],\n",
      "         [30., 31., 32., 33., 34.],\n",
      "         [35., 36., 37., 38., 39.]],\n",
      "\n",
      "        [[40., 41., 42., 43., 44.],\n",
      "         [45., 46., 47., 48., 49.],\n",
      "         [50., 51., 52., 53., 54.],\n",
      "         [55., 56., 57., 58., 59.]]])\n",
      "x.size(): torch.Size([3, 4, 5])\n"
     ]
    }
   ],
   "source": [
    "col, row, height = (3, 4, 5)\n",
    "data = [[[i*(row*height) + j*height + k for k in range(height)] for j in range(row)] for i in range(col)]\n",
    "\n",
    "x = torch.FloatTensor(data)\n",
    "print(f\"x:\\n{x}\")\n",
    "print(f\"x.size(): {x.size()}\")"
   ]
  },
  {
   "cell_type": "code",
   "execution_count": 4,
   "id": "8330ec6f",
   "metadata": {},
   "outputs": [
    {
     "name": "stdout",
     "output_type": "stream",
     "text": [
      "x.reshape():tensor([ 0.,  1.,  2.,  3.,  4.,  5.,  6.,  7.,  8.,  9., 10., 11., 12., 13.,\n",
      "        14., 15., 16., 17., 18., 19., 20., 21., 22., 23., 24., 25., 26., 27.,\n",
      "        28., 29., 30., 31., 32., 33., 34., 35., 36., 37., 38., 39., 40., 41.,\n",
      "        42., 43., 44., 45., 46., 47., 48., 49., 50., 51., 52., 53., 54., 55.,\n",
      "        56., 57., 58., 59.])\n",
      "x.reshape(-1):tensor([ 0.,  1.,  2.,  3.,  4.,  5.,  6.,  7.,  8.,  9., 10., 11., 12., 13.,\n",
      "        14., 15., 16., 17., 18., 19., 20., 21., 22., 23., 24., 25., 26., 27.,\n",
      "        28., 29., 30., 31., 32., 33., 34., 35., 36., 37., 38., 39., 40., 41.,\n",
      "        42., 43., 44., 45., 46., 47., 48., 49., 50., 51., 52., 53., 54., 55.,\n",
      "        56., 57., 58., 59.])\n"
     ]
    }
   ],
   "source": [
    " ## Tensor to Vector\n",
    "print(f\"x.reshape():{x.reshape(col * row * height)}\")\n",
    "print(f\"x.reshape(-1):{x.reshape(-1)}\")"
   ]
  },
  {
   "cell_type": "code",
   "execution_count": 5,
   "id": "bb09bc91",
   "metadata": {},
   "outputs": [
    {
     "name": "stdout",
     "output_type": "stream",
     "text": [
      "x.reshape(3, 4, 5): tensor([[[ 0.,  1.,  2.,  3.,  4.],\n",
      "         [ 5.,  6.,  7.,  8.,  9.],\n",
      "         [10., 11., 12., 13., 14.],\n",
      "         [15., 16., 17., 18., 19.]],\n",
      "\n",
      "        [[20., 21., 22., 23., 24.],\n",
      "         [25., 26., 27., 28., 29.],\n",
      "         [30., 31., 32., 33., 34.],\n",
      "         [35., 36., 37., 38., 39.]],\n",
      "\n",
      "        [[40., 41., 42., 43., 44.],\n",
      "         [45., 46., 47., 48., 49.],\n",
      "         [50., 51., 52., 53., 54.],\n",
      "         [55., 56., 57., 58., 59.]]])\n",
      "x.reshape(3, 20): tensor([[ 0.,  1.,  2.,  3.,  4.,  5.,  6.,  7.,  8.,  9., 10., 11., 12., 13.,\n",
      "         14., 15., 16., 17., 18., 19.],\n",
      "        [20., 21., 22., 23., 24., 25., 26., 27., 28., 29., 30., 31., 32., 33.,\n",
      "         34., 35., 36., 37., 38., 39.],\n",
      "        [40., 41., 42., 43., 44., 45., 46., 47., 48., 49., 50., 51., 52., 53.,\n",
      "         54., 55., 56., 57., 58., 59.]])\n",
      "x.reshape(3,-1): tensor([[ 0.,  1.,  2.,  3.,  4.,  5.,  6.,  7.,  8.,  9., 10., 11., 12., 13.,\n",
      "         14., 15., 16., 17., 18., 19.],\n",
      "        [20., 21., 22., 23., 24., 25., 26., 27., 28., 29., 30., 31., 32., 33.,\n",
      "         34., 35., 36., 37., 38., 39.],\n",
      "        [40., 41., 42., 43., 44., 45., 46., 47., 48., 49., 50., 51., 52., 53.,\n",
      "         54., 55., 56., 57., 58., 59.]])\n",
      "x.reshape(3, 5, -1): tensor([[[ 0.,  1.,  2.,  3.],\n",
      "         [ 4.,  5.,  6.,  7.],\n",
      "         [ 8.,  9., 10., 11.],\n",
      "         [12., 13., 14., 15.],\n",
      "         [16., 17., 18., 19.]],\n",
      "\n",
      "        [[20., 21., 22., 23.],\n",
      "         [24., 25., 26., 27.],\n",
      "         [28., 29., 30., 31.],\n",
      "         [32., 33., 34., 35.],\n",
      "         [36., 37., 38., 39.]],\n",
      "\n",
      "        [[40., 41., 42., 43.],\n",
      "         [44., 45., 46., 47.],\n",
      "         [48., 49., 50., 51.],\n",
      "         [52., 53., 54., 55.],\n",
      "         [56., 57., 58., 59.]]])\n"
     ]
    }
   ],
   "source": [
    "## Reshape \n",
    "print(f\"x.reshape(3, 4, 5): {x.reshape(3, 4, 5)}\")\n",
    "print(f\"x.reshape(3, 20): {x.reshape(3, 20)}\")\n",
    "print(f\"x.reshape(3,-1): {x.reshape(3, -1)}\")\n",
    "print(f\"x.reshape(3, 5, -1): {x.reshape(3, 5,-1)}\")"
   ]
  },
  {
   "cell_type": "code",
   "execution_count": 6,
   "id": "2b40b971",
   "metadata": {},
   "outputs": [
    {
     "name": "stdout",
     "output_type": "stream",
     "text": [
      "x.reshape(3,2,2,5): tensor([[[[ 0.,  1.,  2.,  3.,  4.],\n",
      "          [ 5.,  6.,  7.,  8.,  9.]],\n",
      "\n",
      "         [[10., 11., 12., 13., 14.],\n",
      "          [15., 16., 17., 18., 19.]]],\n",
      "\n",
      "\n",
      "        [[[20., 21., 22., 23., 24.],\n",
      "          [25., 26., 27., 28., 29.]],\n",
      "\n",
      "         [[30., 31., 32., 33., 34.],\n",
      "          [35., 36., 37., 38., 39.]]],\n",
      "\n",
      "\n",
      "        [[[40., 41., 42., 43., 44.],\n",
      "          [45., 46., 47., 48., 49.]],\n",
      "\n",
      "         [[50., 51., 52., 53., 54.],\n",
      "          [55., 56., 57., 58., 59.]]]])\n"
     ]
    }
   ],
   "source": [
    "x.reshape(3, 4, 5)\n",
    "print(f\"x.reshape(3,2,2,5): {x.reshape(3,2,2,5)}\")"
   ]
  },
  {
   "cell_type": "markdown",
   "id": "9fad1659",
   "metadata": {},
   "source": [
    "### View도 Reshape와 유사한 역할을 한다.\n",
    "#### contiguous + view = reshape"
   ]
  },
  {
   "cell_type": "markdown",
   "id": "a3cb0615",
   "metadata": {},
   "source": [
    "### Squeeze: Remove dimension which has onley one element.\n"
   ]
  },
  {
   "cell_type": "code",
   "execution_count": 7,
   "id": "9be117c9",
   "metadata": {},
   "outputs": [
    {
     "name": "stdout",
     "output_type": "stream",
     "text": [
      "x.size(): torch.Size([1, 3, 4])\n",
      "x.squeeze(): tensor([[ 0,  1,  2,  3],\n",
      "        [ 4,  5,  6,  7],\n",
      "        [ 8,  9, 10, 11]])\n",
      "x.squeeze().size(): torch.Size([3, 4])\n"
     ]
    }
   ],
   "source": [
    "## 3x4 Tensor\n",
    "data = [[i*row + j for j in range(row)] for i in range(col)]\n",
    "\n",
    "x = torch.LongTensor([data])\n",
    "print(f\"x.size(): {x.size()}\")\n",
    "print(f\"x.squeeze(): {x.squeeze()}\")\n",
    "print(f\"x.squeeze().size(): {x.squeeze().size()}\")\n",
    "\n"
   ]
  },
  {
   "cell_type": "code",
   "execution_count": null,
   "id": "dd04ce27",
   "metadata": {},
   "outputs": [
    {
     "name": "stdout",
     "output_type": "stream",
     "text": [
      "x:torch.Size([1, 3, 4])\n",
      "x.squeeze(0).size(): torch.Size([3, 4])\n",
      "x.squeeze(1).size(): torch.Size([1, 3, 4])\n"
     ]
    }
   ],
   "source": [
    "print(f\"x:{x.size()}\")\n",
    "print(f\"x.squeeze(0).size(): {x.squeeze(0).size()}\")\n",
    "print(f\"x.squeeze(1).size(): {x.squeeze(1).size()}\")    ## Squeeze the second dimension but it is not squeezed because it is not of size 1"
   ]
  },
  {
   "cell_type": "markdown",
   "id": "ca97eca7",
   "metadata": {},
   "source": [
    "### Unsqueeze: Insert Dimension at certain Index"
   ]
  },
  {
   "cell_type": "code",
   "execution_count": 27,
   "id": "bf003843",
   "metadata": {},
   "outputs": [
    {
     "name": "stdout",
     "output_type": "stream",
     "text": [
      "x.unsqueeze(): tensor([[[ 0,  1,  2,  3],\n",
      "         [ 4,  5,  6,  7],\n",
      "         [ 8,  9, 10, 11]]])\n",
      "x.unsqueeze(2): tensor([[[ 0],\n",
      "         [ 1],\n",
      "         [ 2],\n",
      "         [ 3]],\n",
      "\n",
      "        [[ 4],\n",
      "         [ 5],\n",
      "         [ 6],\n",
      "         [ 7]],\n",
      "\n",
      "        [[ 8],\n",
      "         [ 9],\n",
      "         [10],\n",
      "         [11]]]), size:torch.Size([3, 4, 1])\n",
      "x.reshae(3, 4, -1): tensor([[[ 0],\n",
      "         [ 1],\n",
      "         [ 2],\n",
      "         [ 3]],\n",
      "\n",
      "        [[ 4],\n",
      "         [ 5],\n",
      "         [ 6],\n",
      "         [ 7]],\n",
      "\n",
      "        [[ 8],\n",
      "         [ 9],\n",
      "         [10],\n",
      "         [11]]]), size:torch.Size([3, 4, 1])\n"
     ]
    }
   ],
   "source": [
    "## 3x4 Tensor\n",
    "col = 3\n",
    "row = 4\n",
    "data2 = [[i*row + j for j in range(row)] for i in range(col)]\n",
    "x = torch.LongTensor(data2) ## 3x4 Tensor\n",
    "\n",
    "print(f\"x.unsqueeze(): {x.unsqueeze(0)}\")   ## 1x3x4 Tensor\n",
    "print(f\"x.unsqueeze(2): {x.unsqueeze(2)}, size:{x.unsqueeze(2).size()}\")   ## 3x4x1 Tensor\n",
    "print(f\"x.reshae(3, 4, -1): {x.reshape(3, 4, -1)}, size:{x.reshape(3, 4, -1).size()}\")   ## 3x4x1 Tensor\n"
   ]
  },
  {
   "cell_type": "code",
   "execution_count": null,
   "id": "6953d9b7",
   "metadata": {},
   "outputs": [],
   "source": []
  }
 ],
 "metadata": {
  "kernelspec": {
   "display_name": "dlenv",
   "language": "python",
   "name": "python3"
  },
  "language_info": {
   "codemirror_mode": {
    "name": "ipython",
    "version": 3
   },
   "file_extension": ".py",
   "mimetype": "text/x-python",
   "name": "python",
   "nbconvert_exporter": "python",
   "pygments_lexer": "ipython3",
   "version": "3.12.3"
  }
 },
 "nbformat": 4,
 "nbformat_minor": 5
}
