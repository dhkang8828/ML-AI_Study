{
 "cells": [
  {
   "cell_type": "markdown",
   "id": "59792844",
   "metadata": {},
   "source": []
  },
  {
   "cell_type": "code",
   "execution_count": 2,
   "id": "3b953de4",
   "metadata": {},
   "outputs": [],
   "source": [
    "import torch"
   ]
  },
  {
   "cell_type": "code",
   "execution_count": 3,
   "id": "e6fdf73e",
   "metadata": {},
   "outputs": [
    {
     "name": "stdout",
     "output_type": "stream",
     "text": [
      "ft: tensor([[1., 2.],\n",
      "        [3., 4.]])\n"
     ]
    }
   ],
   "source": [
    "## 2차원 Matrix \n",
    "ft = torch.FloatTensor([[1,2], \n",
    "                        [3,4]])\n",
    "print(f\"ft: {ft}\")"
   ]
  },
  {
   "cell_type": "code",
   "execution_count": 4,
   "id": "d66ef903",
   "metadata": {},
   "outputs": [
    {
     "name": "stdout",
     "output_type": "stream",
     "text": [
      "lt: tensor([[1, 2],\n",
      "        [3, 4]])\n"
     ]
    }
   ],
   "source": [
    "lt = torch.LongTensor([[1,2],\n",
    "                       [3,4]])\n",
    "print(f\"lt: {lt}\")"
   ]
  },
  {
   "cell_type": "code",
   "execution_count": 5,
   "id": "0f1bdfb0",
   "metadata": {},
   "outputs": [
    {
     "name": "stdout",
     "output_type": "stream",
     "text": [
      "bt: tensor([[1, 0],\n",
      "        [0, 1]], dtype=torch.uint8)\n"
     ]
    }
   ],
   "source": [
    "bt = torch.ByteTensor([[1, 0], \n",
    "                      [0, 1]])\n",
    "print(f\"bt: {bt}\")"
   ]
  },
  {
   "cell_type": "code",
   "execution_count": 6,
   "id": "19366693",
   "metadata": {},
   "outputs": [
    {
     "name": "stdout",
     "output_type": "stream",
     "text": [
      "x: tensor([[8.4010e-10, 0.0000e+00],\n",
      "        [0.0000e+00, 0.0000e+00],\n",
      "        [0.0000e+00, 0.0000e+00]])\n"
     ]
    }
   ],
   "source": [
    "## 3x2 Tensor \n",
    "x = torch.FloatTensor(3, 2)\n",
    "print(f\"x: {x}\")"
   ]
  },
  {
   "cell_type": "markdown",
   "id": "01d790ca",
   "metadata": {},
   "source": [
    "## Numpy Compatibility"
   ]
  },
  {
   "cell_type": "code",
   "execution_count": 7,
   "id": "1036b7f1",
   "metadata": {},
   "outputs": [
    {
     "name": "stdout",
     "output_type": "stream",
     "text": [
      "np x: [[1 2]\n",
      " [3 4]\n",
      " [5 6]], type: <class 'numpy.ndarray'>\n"
     ]
    }
   ],
   "source": [
    "import numpy as np\n",
    "\n",
    "x = np.array([[1,2], \n",
    "              [3,4],\n",
    "              [5,6]])\n",
    "print(f\"np x: {x}, type: {type(x)}\")"
   ]
  },
  {
   "cell_type": "code",
   "execution_count": 8,
   "id": "508e41ac",
   "metadata": {},
   "outputs": [
    {
     "name": "stdout",
     "output_type": "stream",
     "text": [
      "torch x: tensor([[1, 2],\n",
      "        [3, 4],\n",
      "        [5, 6]]), type: <class 'torch.Tensor'>\n"
     ]
    }
   ],
   "source": [
    "x = torch.from_numpy(x)\n",
    "print(f\"torch x: {x}, type: {type(x)}\")"
   ]
  },
  {
   "cell_type": "markdown",
   "id": "0cff39e5",
   "metadata": {},
   "source": [
    "## Tensor Type-Casting"
   ]
  },
  {
   "cell_type": "code",
   "execution_count": 9,
   "id": "554d27a9",
   "metadata": {},
   "outputs": [
    {
     "name": "stdout",
     "output_type": "stream",
     "text": [
      "ft.long(): tensor([[1, 2],\n",
      "        [3, 4]])\n"
     ]
    }
   ],
   "source": [
    "ft.long()\n",
    "print(f\"ft.long(): {ft.long()}\")"
   ]
  },
  {
   "cell_type": "code",
   "execution_count": 10,
   "id": "79524fb7",
   "metadata": {},
   "outputs": [
    {
     "name": "stdout",
     "output_type": "stream",
     "text": [
      "lt.float(): tensor([[1., 2.],\n",
      "        [3., 4.]])\n"
     ]
    }
   ],
   "source": [
    "print(f\"lt.float(): {lt.float()}\")\n"
   ]
  },
  {
   "cell_type": "code",
   "execution_count": 11,
   "id": "9389ce61",
   "metadata": {},
   "outputs": [
    {
     "data": {
      "text/plain": [
       "tensor([1, 0, 1], dtype=torch.uint8)"
      ]
     },
     "execution_count": 11,
     "metadata": {},
     "output_type": "execute_result"
    }
   ],
   "source": [
    "torch.FloatTensor([1,0,1]).byte()"
   ]
  },
  {
   "cell_type": "markdown",
   "id": "e01b028d",
   "metadata": {},
   "source": [
    "### Get Shape"
   ]
  },
  {
   "cell_type": "code",
   "execution_count": 12,
   "id": "5d491f2e",
   "metadata": {},
   "outputs": [
    {
     "name": "stdout",
     "output_type": "stream",
     "text": [
      "x.size(): torch.Size([3, 2, 2])\n",
      "x.shape: torch.Size([3, 2, 2])\n"
     ]
    }
   ],
   "source": [
    "## 3x2x2 Tensor\n",
    "x = torch.FloatTensor([[[1,2], \n",
    "     [3,4]],\n",
    "    [[5,6], \n",
    "     [7,8]],\n",
    "    [[9,10], \n",
    "     [11,12]]])\n",
    "\n",
    "print(f\"x.size(): {x.size()}\")\n",
    "print(f\"x.shape: {x.shape}\")"
   ]
  },
  {
   "cell_type": "code",
   "execution_count": 13,
   "id": "bdfecc55",
   "metadata": {},
   "outputs": [
    {
     "name": "stdout",
     "output_type": "stream",
     "text": [
      "x.dim(): 3\n",
      "x.ndimension(): 3\n",
      "len(x.size()): 3\n"
     ]
    }
   ],
   "source": [
    "print(f\"x.dim(): {x.dim()}\")    ## Number of dimensions\n",
    "print(f\"x.ndimension(): {x.ndimension()}\")\n",
    "print(f\"len(x.size()): {len(x.size())}\")"
   ]
  },
  {
   "cell_type": "code",
   "execution_count": 14,
   "id": "5603f6f5",
   "metadata": {},
   "outputs": [
    {
     "name": "stdout",
     "output_type": "stream",
     "text": [
      "x.size(0): 3\n",
      "x.shape[0]: 3\n",
      "x.size(1): 2\n",
      "x.shape[1]: 2\n",
      "x.size(2): 2\n",
      "x.shape[2]: 2\n"
     ]
    }
   ],
   "source": [
    "print(f\"x.size(0): {x.size(0)}\") ## Size of dimension 0\n",
    "print(f\"x.shape[0]: {x.shape[0]}\") ## Size of dimension 0\n",
    "print(f\"x.size(1): {x.size(1)}\")  ## Size of dimension 1\n",
    "print(f\"x.shape[1]: {x.shape[1]}\")  ## Size of dimension 1\n",
    "print(f\"x.size(2): {x.size(2)}\")  ## Size of dimension\n",
    "print(f\"x.shape[2]: {x.shape[2]}\")  ## Size of dimension 2"
   ]
  },
  {
   "cell_type": "code",
   "execution_count": 15,
   "id": "9a57bbca",
   "metadata": {},
   "outputs": [
    {
     "name": "stdout",
     "output_type": "stream",
     "text": [
      "x.size(-1): 2\n",
      "x.size(-2): 2\n",
      "x.size(-3): 3\n"
     ]
    }
   ],
   "source": [
    "print(f\"x.size(-1): {x.size(-1)}\")  ## Size of last dimension\n",
    "print(f\"x.size(-2): {x.size(-2)}\")  ## Size of last dimension\n",
    "print(f\"x.size(-3): {x.size(-3)}\")  ## Size of last dimension"
   ]
  },
  {
   "cell_type": "code",
   "execution_count": null,
   "id": "df9cb299",
   "metadata": {},
   "outputs": [],
   "source": []
  }
 ],
 "metadata": {
  "kernelspec": {
   "display_name": "dlenv",
   "language": "python",
   "name": "python3"
  },
  "language_info": {
   "codemirror_mode": {
    "name": "ipython",
    "version": 3
   },
   "file_extension": ".py",
   "mimetype": "text/x-python",
   "name": "python",
   "nbconvert_exporter": "python",
   "pygments_lexer": "ipython3",
   "version": "3.12.3"
  }
 },
 "nbformat": 4,
 "nbformat_minor": 5
}
