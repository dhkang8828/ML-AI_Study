{
 "cells": [
  {
   "cell_type": "markdown",
   "id": "c23a5d75",
   "metadata": {},
   "source": [
    "## PyTorch Tensor Operations"
   ]
  },
  {
   "cell_type": "code",
   "execution_count": 1,
   "id": "ca707448",
   "metadata": {},
   "outputs": [],
   "source": [
    "import torch"
   ]
  },
  {
   "cell_type": "markdown",
   "id": "08f04c54",
   "metadata": {},
   "source": [
    "## Arithmetic Element-wise Operations"
   ]
  },
  {
   "cell_type": "code",
   "execution_count": 2,
   "id": "9843ada2",
   "metadata": {},
   "outputs": [],
   "source": [
    "a = torch.FloatTensor([[1,2,3], \n",
    "                       [4,5,6],\n",
    "                       [7,8,9]])\n",
    "b = torch.FloatTensor([[2,2,3], \n",
    "                       [3,3,4],\n",
    "                       [4,5,6]])\n"
   ]
  },
  {
   "cell_type": "code",
   "execution_count": 3,
   "id": "8dc16844",
   "metadata": {},
   "outputs": [
    {
     "name": "stdout",
     "output_type": "stream",
     "text": [
      "a + b = tensor([[ 3.,  4.,  6.],\n",
      "        [ 7.,  8., 10.],\n",
      "        [11., 13., 15.]])\n",
      "a - b = tensor([[-1.,  0.,  0.],\n",
      "        [ 1.,  2.,  2.],\n",
      "        [ 3.,  3.,  3.]])\n",
      "a * b = tensor([[ 2.,  4.,  9.],\n",
      "        [12., 15., 24.],\n",
      "        [28., 40., 54.]])\n",
      "a / b = tensor([[0.5000, 1.0000, 1.0000],\n",
      "        [1.3333, 1.6667, 1.5000],\n",
      "        [1.7500, 1.6000, 1.5000]])\n",
      "a == b = tensor([[False,  True,  True],\n",
      "        [False, False, False],\n",
      "        [False, False, False]])\n",
      "a != b = tensor([[ True, False, False],\n",
      "        [ True,  True,  True],\n",
      "        [ True,  True,  True]])\n",
      "a **  b = tensor([[1.0000e+00, 4.0000e+00, 2.7000e+01],\n",
      "        [6.4000e+01, 1.2500e+02, 1.2960e+03],\n",
      "        [2.4010e+03, 3.2768e+04, 5.3144e+05]])\n"
     ]
    }
   ],
   "source": [
    "print(f\"a + b = {a + b}\")\n",
    "print(f\"a - b = {a - b}\")\n",
    "print(f\"a * b = {a * b}\")\n",
    "print(f\"a / b = {a / b}\")\n",
    "print(f\"a == b = {a == b}\")\n",
    "print(f\"a != b = {a != b}\")\n",
    "print(f\"a **  b = {a ** b}\")"
   ]
  },
  {
   "cell_type": "markdown",
   "id": "a1229f23",
   "metadata": {},
   "source": [
    "## InPlace Operations"
   ]
  },
  {
   "cell_type": "code",
   "execution_count": 4,
   "id": "887fb635",
   "metadata": {},
   "outputs": [
    {
     "name": "stdout",
     "output_type": "stream",
     "text": [
      "a = tensor([[1., 2., 3.],\n",
      "        [4., 5., 6.],\n",
      "        [7., 8., 9.]])\n",
      "a.mul(b) = tensor([[ 2.,  4.,  9.],\n",
      "        [12., 15., 24.],\n",
      "        [28., 40., 54.]])\n",
      "a = tensor([[1., 2., 3.],\n",
      "        [4., 5., 6.],\n",
      "        [7., 8., 9.]])\n",
      "a.mul_(b) = tensor([[ 2.,  4.,  9.],\n",
      "        [12., 15., 24.],\n",
      "        [28., 40., 54.]])\n",
      "a = tensor([[ 2.,  4.,  9.],\n",
      "        [12., 15., 24.],\n",
      "        [28., 40., 54.]])\n"
     ]
    }
   ],
   "source": [
    "print(f\"a = {a}\")\n",
    "print(f\"a.mul(b) = {a.mul(b)}\")\n",
    "print(f\"a = {a}\")\n",
    "print(f\"a.mul_(b) = {a.mul_(b)}\")\n",
    "print(f\"a = {a}\")"
   ]
  },
  {
   "cell_type": "markdown",
   "id": "f4819a9a",
   "metadata": {},
   "source": [
    "## SUM, Mean (Dimension Reducting Operations)"
   ]
  },
  {
   "cell_type": "code",
   "execution_count": 5,
   "id": "e16ce566",
   "metadata": {},
   "outputs": [],
   "source": [
    "x = torch.FloatTensor([[1,2,3], \n",
    "                       [4,5,6],\n",
    "                       [7,8,9]])\n"
   ]
  },
  {
   "cell_type": "code",
   "execution_count": 6,
   "id": "bc4196f0",
   "metadata": {},
   "outputs": [
    {
     "name": "stdout",
     "output_type": "stream",
     "text": [
      "x.sum() = 45.0\n",
      "x.mean() = 5.0\n",
      "x.sum(dim=0) = tensor([12., 15., 18.])\n",
      "x.sum(dim=1) = tensor([ 6., 15., 24.])\n",
      "x.sum(dim=-1) = tensor([ 6., 15., 24.])\n"
     ]
    }
   ],
   "source": [
    "print(f\"x.sum() = {x.sum()}\")\n",
    "print(f\"x.mean() = {x.mean()}\")\n",
    "\n",
    "## 특정 dimension에 대해서만 연산\n",
    "## 방향을 지정한다는 것은 없어질 Dimension을 지정한다는 것.\n",
    "print(f\"x.sum(dim=0) = {x.sum(dim=0)}\") ## dim=0은 행 방향으로 연산 (아래방향으로 찌부)\n",
    "print(f\"x.sum(dim=1) = {x.sum(dim=1)}\") ## dim=1은 열 방향으로 연산 (오른쪽 방향으로 찌부)\n",
    "print(f\"x.sum(dim=-1) = {x.sum(dim=-1)}\") ## 맨 마지막 dimension방향, 이 경우엔 dim=1과 동일\n"
   ]
  },
  {
   "cell_type": "markdown",
   "id": "96106180",
   "metadata": {},
   "source": [
    "## Broadcast in Operations"
   ]
  },
  {
   "cell_type": "code",
   "execution_count": 7,
   "id": "ee02e134",
   "metadata": {},
   "outputs": [
    {
     "name": "stdout",
     "output_type": "stream",
     "text": [
      "x.size() = torch.Size([3, 3])\n",
      "y.size() = torch.Size([3, 3])\n"
     ]
    }
   ],
   "source": [
    "x = torch.FloatTensor([[1,2,3], \n",
    "                       [4,5,6], \n",
    "                       [7,8,9]])\n",
    "y = torch.FloatTensor([[10, 11, 12], \n",
    "                       [13, 14, 15], \n",
    "                       [16, 17, 18]])\n",
    "\n",
    "print(f\"x.size() = {x.size()}\")\n",
    "print(f\"y.size() = {y.size()}\")"
   ]
  },
  {
   "cell_type": "code",
   "execution_count": 8,
   "id": "d693ea7a",
   "metadata": {},
   "outputs": [
    {
     "name": "stdout",
     "output_type": "stream",
     "text": [
      "z = tensor([[11., 13., 15.],\n",
      "        [17., 19., 21.],\n",
      "        [23., 25., 27.]])\n",
      "z.size() = torch.Size([3, 3])\n"
     ]
    }
   ],
   "source": [
    "z = x + y\n",
    "print(f\"z = {z}\")\n",
    "print(f\"z.size() = {z.size()}\")"
   ]
  },
  {
   "cell_type": "markdown",
   "id": "e2e24bc8",
   "metadata": {},
   "source": [
    "### Tensor + Scalar"
   ]
  },
  {
   "cell_type": "code",
   "execution_count": 9,
   "id": "a6d60fed",
   "metadata": {},
   "outputs": [
    {
     "name": "stdout",
     "output_type": "stream",
     "text": [
      "data = [[[0, 1, 2, 3, 4], [5, 6, 7, 8, 9], [10, 11, 12, 13, 14], [15, 16, 17, 18, 19]], [[20, 21, 22, 23, 24], [25, 26, 27, 28, 29], [30, 31, 32, 33, 34], [35, 36, 37, 38, 39]], [[40, 41, 42, 43, 44], [45, 46, 47, 48, 49], [50, 51, 52, 53, 54], [55, 56, 57, 58, 59]]]\n",
      "x = tensor([[[ 0.,  1.,  2.,  3.,  4.],\n",
      "         [ 5.,  6.,  7.,  8.,  9.],\n",
      "         [10., 11., 12., 13., 14.],\n",
      "         [15., 16., 17., 18., 19.]],\n",
      "\n",
      "        [[20., 21., 22., 23., 24.],\n",
      "         [25., 26., 27., 28., 29.],\n",
      "         [30., 31., 32., 33., 34.],\n",
      "         [35., 36., 37., 38., 39.]],\n",
      "\n",
      "        [[40., 41., 42., 43., 44.],\n",
      "         [45., 46., 47., 48., 49.],\n",
      "         [50., 51., 52., 53., 54.],\n",
      "         [55., 56., 57., 58., 59.]]])\n"
     ]
    }
   ],
   "source": [
    "## 3x4x5 Tensor \n",
    "##data = [[[0 for k in range(5)] for j in range(4)] for i in range(3)]    ## 0으로 초기화\n",
    "##print(f\"data = {data}\") \n",
    "data = [[[i*20 + j*5 + k for k in range(5)] for j in range(4)] for i in range(3)] ## 순차적으로 초기화\n",
    "print(f\"data = {data}\")\n",
    "\n",
    "x = torch.FloatTensor(data)\n",
    "print(f\"x = {x}\")\n",
    "#x = torch.FloatTensor(3,4,5,6)      ##Random 값으로 초기화된 Tensor\n",
    "#print(f\"x = {x}\")"
   ]
  },
  {
   "cell_type": "code",
   "execution_count": 10,
   "id": "3971aba7",
   "metadata": {},
   "outputs": [
    {
     "name": "stdout",
     "output_type": "stream",
     "text": [
      "z(x + y) = tensor([[[ 1.,  2.,  3.,  4.,  5.],\n",
      "         [ 6.,  7.,  8.,  9., 10.],\n",
      "         [11., 12., 13., 14., 15.],\n",
      "         [16., 17., 18., 19., 20.]],\n",
      "\n",
      "        [[21., 22., 23., 24., 25.],\n",
      "         [26., 27., 28., 29., 30.],\n",
      "         [31., 32., 33., 34., 35.],\n",
      "         [36., 37., 38., 39., 40.]],\n",
      "\n",
      "        [[41., 42., 43., 44., 45.],\n",
      "         [46., 47., 48., 49., 50.],\n",
      "         [51., 52., 53., 54., 55.],\n",
      "         [56., 57., 58., 59., 60.]]])\n",
      "z.size() = torch.Size([3, 4, 5])\n"
     ]
    }
   ],
   "source": [
    "y = 1\n",
    "z = x + y\n",
    "print(f\"z(x + y) = {z}\")\n",
    "print(f\"z.size() = {z.size()}\")"
   ]
  },
  {
   "cell_type": "markdown",
   "id": "b31b2e15",
   "metadata": {},
   "source": [
    "### Tensor + Vector"
   ]
  },
  {
   "cell_type": "code",
   "execution_count": 11,
   "id": "9e4151a7",
   "metadata": {},
   "outputs": [
    {
     "name": "stdout",
     "output_type": "stream",
     "text": [
      "z(x + y) = tensor([[[ 0.,  2.,  4.,  6.,  8.],\n",
      "         [10., 12., 14., 16., 18.],\n",
      "         [20., 22., 24., 26., 28.],\n",
      "         [30., 32., 34., 36., 38.]],\n",
      "\n",
      "        [[20., 22., 24., 26., 28.],\n",
      "         [30., 32., 34., 36., 38.],\n",
      "         [40., 42., 44., 46., 48.],\n",
      "         [50., 52., 54., 56., 58.]],\n",
      "\n",
      "        [[40., 42., 44., 46., 48.],\n",
      "         [50., 52., 54., 56., 58.],\n",
      "         [60., 62., 64., 66., 68.],\n",
      "         [70., 72., 74., 76., 78.]]])\n"
     ]
    }
   ],
   "source": [
    "data2 = [[i*5 + j for j in range(5)] for i in range(4)]\n",
    "y = torch.FloatTensor(data2)\n",
    "\n",
    "z = x + y\n",
    "print(f\"z(x + y) = {z}\")"
   ]
  },
  {
   "cell_type": "code",
   "execution_count": 12,
   "id": "10206720",
   "metadata": {},
   "outputs": [
    {
     "name": "stdout",
     "output_type": "stream",
     "text": [
      "x.size() = torch.Size([1, 1, 2])\n",
      "y.size() = torch.Size([2])\n",
      "z(x + y) = tensor([[[4., 7.]]])\n"
     ]
    }
   ],
   "source": [
    "x = torch.FloatTensor([[[1,2]]])\n",
    "y = torch.FloatTensor([3,5])\n",
    "\n",
    "print(f\"x.size() = {x.size()}\")\n",
    "print(f\"y.size() = {y.size()}\")\n",
    "## y = (2,)\n",
    "## y~ = (1,1,2)\n",
    "z = x + y\n",
    "print(f\"z(x + y) = {z}\")"
   ]
  },
  {
   "cell_type": "markdown",
   "id": "b8414127",
   "metadata": {},
   "source": [
    "### Tensor + Tensor"
   ]
  },
  {
   "cell_type": "code",
   "execution_count": 13,
   "id": "9d9efae7",
   "metadata": {},
   "outputs": [
    {
     "name": "stdout",
     "output_type": "stream",
     "text": [
      "x.shape = torch.Size([1, 2])\n",
      "y.shape = torch.Size([2, 1])\n",
      "z(x + y) = tensor([[4., 5.],\n",
      "        [6., 7.]])\n",
      "z.size() = torch.Size([2, 2])\n"
     ]
    }
   ],
   "source": [
    "x = torch.FloatTensor([[1,2]]) \n",
    "print(f\"x.shape = {x.shape}\")\n",
    "y= torch.FloatTensor([[3],[5]])\n",
    "print(f\"y.shape = {y.shape}\")\n",
    "\n",
    "z = x + y\n",
    "print(f\"z(x + y) = {z}\")\n",
    "print(f\"z.size() = {z.size()}\")"
   ]
  },
  {
   "cell_type": "markdown",
   "id": "8f4c8d06",
   "metadata": {},
   "source": [
    "### Failure Case"
   ]
  },
  {
   "cell_type": "code",
   "execution_count": 14,
   "id": "7ca1f6ec",
   "metadata": {},
   "outputs": [
    {
     "ename": "RuntimeError",
     "evalue": "The size of tensor a (2) must match the size of tensor b (3) at non-singleton dimension 1",
     "output_type": "error",
     "traceback": [
      "\u001b[31m---------------------------------------------------------------------------\u001b[39m",
      "\u001b[31mRuntimeError\u001b[39m                              Traceback (most recent call last)",
      "\u001b[36mCell\u001b[39m\u001b[36m \u001b[39m\u001b[32mIn[14]\u001b[39m\u001b[32m, line 3\u001b[39m\n\u001b[32m      1\u001b[39m x = torch.FloatTensor(\u001b[32m2\u001b[39m,\u001b[32m2\u001b[39m)\n\u001b[32m      2\u001b[39m y = torch.FloatTensor(\u001b[32m3\u001b[39m,\u001b[32m3\u001b[39m)\n\u001b[32m----> \u001b[39m\u001b[32m3\u001b[39m z = \u001b[43mx\u001b[49m\u001b[43m \u001b[49m\u001b[43m+\u001b[49m\u001b[43m \u001b[49m\u001b[43my\u001b[49m\n",
      "\u001b[31mRuntimeError\u001b[39m: The size of tensor a (2) must match the size of tensor b (3) at non-singleton dimension 1"
     ]
    }
   ],
   "source": [
    "x = torch.FloatTensor(2,2)\n",
    "y = torch.FloatTensor(3,3)\n",
    "z = x + y\n",
    "\n"
   ]
  },
  {
   "cell_type": "code",
   "execution_count": null,
   "id": "4e1ac734",
   "metadata": {},
   "outputs": [],
   "source": []
  }
 ],
 "metadata": {
  "kernelspec": {
   "display_name": "dlenv",
   "language": "python",
   "name": "python3"
  },
  "language_info": {
   "codemirror_mode": {
    "name": "ipython",
    "version": 3
   },
   "file_extension": ".py",
   "mimetype": "text/x-python",
   "name": "python",
   "nbconvert_exporter": "python",
   "pygments_lexer": "ipython3",
   "version": "3.12.3"
  }
 },
 "nbformat": 4,
 "nbformat_minor": 5
}
