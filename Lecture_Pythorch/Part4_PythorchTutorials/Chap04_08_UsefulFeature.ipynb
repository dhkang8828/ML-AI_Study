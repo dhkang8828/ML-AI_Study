{
 "cells": [
  {
   "cell_type": "markdown",
   "id": "cb9fc347",
   "metadata": {},
   "source": [
    "pythorch 붙이고, 자르고, reshape, concatenation.. 능수능란하게 다룰 수 있어야 한다."
   ]
  },
  {
   "cell_type": "code",
   "execution_count": 22,
   "id": "93f98a72",
   "metadata": {},
   "outputs": [],
   "source": [
    "import torch"
   ]
  },
  {
   "cell_type": "markdown",
   "id": "10311dbe",
   "metadata": {},
   "source": [
    "### Expand: Copy the given tensor and concat those at desired dimension"
   ]
  },
  {
   "cell_type": "code",
   "execution_count": 23,
   "id": "748b7c3a",
   "metadata": {},
   "outputs": [
    {
     "name": "stdout",
     "output_type": "stream",
     "text": [
      "x: tensor([[[0., 1.]],\n",
      "\n",
      "        [[2., 3.]]]), size: torch.Size([2, 1, 2])\n"
     ]
    }
   ],
   "source": [
    "col = 2 ## expand는 텐서의 크기가 1인 차원에서만 사용할 수 있다.\n",
    "row = 2\n",
    "data = [[i*row + j for j in range(row)] for i in range(col)]\n",
    "x = torch.FloatTensor(data) ## 2x2 tensor\n",
    "## unsqueeze \n",
    "x = x.unsqueeze(0) ## 1x2x2 Tensor\n",
    "## 1x2x2 to 2x1x2 Tensor\n",
    "x = x.reshape(2, 1, 2) ## 2x1x2 Tensor\n",
    "\n",
    "print(f\"x: {x}, size: {x.size()}\")  "
   ]
  },
  {
   "cell_type": "code",
   "execution_count": 24,
   "id": "0d018400",
   "metadata": {},
   "outputs": [
    {
     "name": "stdout",
     "output_type": "stream",
     "text": [
      "y: tensor([[[0., 1.],\n",
      "         [0., 1.],\n",
      "         [0., 1.]],\n",
      "\n",
      "        [[2., 3.],\n",
      "         [2., 3.],\n",
      "         [2., 3.]]]), size: torch.Size([2, 3, 2])\n"
     ]
    }
   ],
   "source": [
    "y = x.expand(*[2, 3, 2])\n",
    "print(f\"y: {y}, size: {y.size()}\")"
   ]
  },
  {
   "cell_type": "code",
   "execution_count": 25,
   "id": "d38d9ad9",
   "metadata": {},
   "outputs": [
    {
     "name": "stdout",
     "output_type": "stream",
     "text": [
      "y: tensor([[[0., 1.],\n",
      "         [0., 1.],\n",
      "         [0., 1.]],\n",
      "\n",
      "        [[2., 3.],\n",
      "         [2., 3.],\n",
      "         [2., 3.]]]), size: torch.Size([2, 3, 2])\n"
     ]
    }
   ],
   "source": [
    "## 위의 expand는 cat으로도 구현 가능하다.\n",
    "y = torch.cat([x, x, x], dim=1)\n",
    "print(f\"y: {y}, size: {y.size()}\") ## 2x3x2 Tensor"
   ]
  },
  {
   "cell_type": "markdown",
   "id": "31433021",
   "metadata": {},
   "source": [
    "### RandPerm: Random Permutation"
   ]
  },
  {
   "cell_type": "code",
   "execution_count": 26,
   "id": "2c263c68",
   "metadata": {},
   "outputs": [
    {
     "name": "stdout",
     "output_type": "stream",
     "text": [
      "x: tensor([2, 5, 7, 4, 8, 1, 3, 9, 0, 6]), size: torch.Size([10])\n",
      "x: tensor([[2, 5, 7, 4, 8],\n",
      "        [1, 3, 9, 0, 6]]), size: torch.Size([2, 5])\n"
     ]
    }
   ],
   "source": [
    "x = torch.randperm(10) ## 임의의 순열을 만들어 낸다.\n",
    "print(f\"x: {x}, size: {x.size()}\") ## 10개의 원\n",
    "x = x.reshape(2, 5)\n",
    "print(f\"x: {x}, size: {x.size()}\") ## 2x5 Tensor\n"
   ]
  },
  {
   "cell_type": "markdown",
   "id": "db32b42d",
   "metadata": {},
   "source": [
    "### Argmax: Return index of maximum values\n",
    "#### 엄청 헷갈리네  ㅠㅠ"
   ]
  },
  {
   "cell_type": "code",
   "execution_count": 27,
   "id": "bfaf829c",
   "metadata": {},
   "outputs": [
    {
     "name": "stdout",
     "output_type": "stream",
     "text": [
      "x: tensor([[[ 0,  1,  2,  3,  4],\n",
      "         [ 4,  5,  6,  7,  8],\n",
      "         [ 8,  9, 10, 11, 12],\n",
      "         [12, 13, 14, 15, 16]],\n",
      "\n",
      "        [[20, 21, 22, 23, 24],\n",
      "         [24, 25, 26, 27, 28],\n",
      "         [28, 29, 30, 31, 32],\n",
      "         [32, 33, 34, 35, 36]],\n",
      "\n",
      "        [[40, 41, 42, 43, 44],\n",
      "         [44, 45, 46, 47, 48],\n",
      "         [48, 49, 50, 51, 52],\n",
      "         [52, 53, 54, 55, 56]]]), size: torch.Size([3, 4, 5])\n",
      "y: tensor([[2, 2, 2, 2, 2],\n",
      "        [2, 2, 2, 2, 2],\n",
      "        [2, 2, 2, 2, 2],\n",
      "        [2, 2, 2, 2, 2]]), size: torch.Size([4, 5])\n",
      "y: tensor([[3, 3, 3, 3, 3],\n",
      "        [3, 3, 3, 3, 3],\n",
      "        [3, 3, 3, 3, 3]]), size: torch.Size([3, 5])\n",
      "y: tensor([[4, 4, 4, 4],\n",
      "        [4, 4, 4, 4],\n",
      "        [4, 4, 4, 4]]), size: torch.Size([3, 4])\n"
     ]
    }
   ],
   "source": [
    "dim = 3\n",
    "row = 4\n",
    "col = 5\n",
    "data = [[[i*(row*col) + j*row + k for k in range(col)] for j in range(row)] for i in range(dim)]\n",
    "x = torch.tensor(data)\n",
    "print(f\"x: {x}, size: {x.size()}\") ## 3x4x5 Tensor\n",
    "\n",
    "## 깊이(층방향) 값 비교\n",
    "y = x.argmax(dim=0)\n",
    "print(f\"y: {y}, size: {y.size()}\") ## 4x5 Tensor, 각 열에서 가장 큰 값의 인덱스를 반환한다.\n",
    "\n",
    "## 행방향 값 비교\n",
    "y = x.argmax(dim=1)\n",
    "print(f\"y: {y}, size: {y.size()}\") ## 3x5 Tensor, 각 행에서 가장 큰 값의 인덱스를 반환한다.\n",
    "\n",
    "## 열방향 값 비교\n",
    "y = x.argmax(dim=2)\n",
    "print(f\"y: {y}, size: {y.size()}\") ## 3x"
   ]
  },
  {
   "cell_type": "markdown",
   "id": "77947095",
   "metadata": {},
   "source": [
    "#### TopK: Return tuple of top-K values and indices.\n",
    "##### 보통 k=1을 많이 사용한다. squeeze를 써서 차원을 줄여줘야 한다."
   ]
  },
  {
   "cell_type": "code",
   "execution_count": 28,
   "id": "1752abfe",
   "metadata": {},
   "outputs": [
    {
     "name": "stdout",
     "output_type": "stream",
     "text": [
      "values: tensor([[[ 4],\n",
      "         [ 8],\n",
      "         [12],\n",
      "         [16]],\n",
      "\n",
      "        [[24],\n",
      "         [28],\n",
      "         [32],\n",
      "         [36]],\n",
      "\n",
      "        [[44],\n",
      "         [48],\n",
      "         [52],\n",
      "         [56]]]), size: torch.Size([3, 4, 1])\n",
      "indices: tensor([[[4],\n",
      "         [4],\n",
      "         [4],\n",
      "         [4]],\n",
      "\n",
      "        [[4],\n",
      "         [4],\n",
      "         [4],\n",
      "         [4]],\n",
      "\n",
      "        [[4],\n",
      "         [4],\n",
      "         [4],\n",
      "         [4]]]), size: torch.Size([3, 4, 1])\n",
      "values: tensor([[ 4,  8, 12, 16],\n",
      "        [24, 28, 32, 36],\n",
      "        [44, 48, 52, 56]]), size: torch.Size([3, 4])\n",
      "indices: tensor([[4, 4, 4, 4],\n",
      "        [4, 4, 4, 4],\n",
      "        [4, 4, 4, 4]]), size: torch.Size([3, 4])\n"
     ]
    }
   ],
   "source": [
    "values, indices = torch.topk(x, k=1, dim=-1)\n",
    "print(f\"values: {values}, size: {values.size()}\") ## 3x4x1 Tensor\n",
    "print(f\"indices: {indices}, size: {indices.size()}\") \n",
    "\n",
    "print(f\"values: {values.squeeze(-1)}, size: {values.squeeze(-1).size()}\") ## 3x4 Tensor\n",
    "print(f\"indices: {indices.squeeze(-1)}, size: {indices.squeeze(-1).size()}\") "
   ]
  },
  {
   "cell_type": "code",
   "execution_count": 29,
   "id": "a2d8f78b",
   "metadata": {},
   "outputs": [
    {
     "name": "stdout",
     "output_type": "stream",
     "text": [
      "tensor([[True, True, True, True],\n",
      "        [True, True, True, True],\n",
      "        [True, True, True, True]])\n"
     ]
    }
   ],
   "source": [
    "print(x.argmax(dim=-1) == indices.squeeze(-1)) ## True, 각 행에서 가장 큰 값의 인덱스가 일치하는지 확인r"
   ]
  },
  {
   "cell_type": "code",
   "execution_count": 32,
   "id": "9eefa396",
   "metadata": {},
   "outputs": [
    {
     "name": "stdout",
     "output_type": "stream",
     "text": [
      "x: tensor([[[ 0,  1,  2,  3,  4],\n",
      "         [ 4,  5,  6,  7,  8],\n",
      "         [ 8,  9, 10, 11, 12],\n",
      "         [12, 13, 14, 15, 16]],\n",
      "\n",
      "        [[20, 21, 22, 23, 24],\n",
      "         [24, 25, 26, 27, 28],\n",
      "         [28, 29, 30, 31, 32],\n",
      "         [32, 33, 34, 35, 36]],\n",
      "\n",
      "        [[40, 41, 42, 43, 44],\n",
      "         [44, 45, 46, 47, 48],\n",
      "         [48, 49, 50, 51, 52],\n",
      "         [52, 53, 54, 55, 56]]]), size: torch.Size([3, 4, 5])\n",
      "values: tensor([[[ 4,  3],\n",
      "         [ 8,  7],\n",
      "         [12, 11],\n",
      "         [16, 15]],\n",
      "\n",
      "        [[24, 23],\n",
      "         [28, 27],\n",
      "         [32, 31],\n",
      "         [36, 35]],\n",
      "\n",
      "        [[44, 43],\n",
      "         [48, 47],\n",
      "         [52, 51],\n",
      "         [56, 55]]]), size: torch.Size([3, 4, 2])\n",
      "indices: tensor([[[4, 3],\n",
      "         [4, 3],\n",
      "         [4, 3],\n",
      "         [4, 3]],\n",
      "\n",
      "        [[4, 3],\n",
      "         [4, 3],\n",
      "         [4, 3],\n",
      "         [4, 3]],\n",
      "\n",
      "        [[4, 3],\n",
      "         [4, 3],\n",
      "         [4, 3],\n",
      "         [4, 3]]]), size: torch.Size([3, 4, 2])\n",
      "tensor([[True, True, True, True],\n",
      "        [True, True, True, True],\n",
      "        [True, True, True, True]])\n"
     ]
    },
    {
     "data": {
      "text/plain": [
       "(None,)"
      ]
     },
     "execution_count": 32,
     "metadata": {},
     "output_type": "execute_result"
    }
   ],
   "source": [
    "print(f\"x: {x}, size: {x.size()}\") ## 3x4x5 Tensor\n",
    "values, indices = torch.topk(x, k=2, dim=-1)\n",
    "print(f\"values: {values}, size: {values.size()}\") ## 3x2 Tensor, 각 행에서 가장 큰 2개의 값\n",
    "print(f\"indices: {indices}, size: {indices.size()}\") ## 3x2 Tensor, 각 행에서 가장 큰\n",
    "\n",
    "print(x.argmax(dim=-1) == indices[:, :, 0]),  # True, 각 행에서 가장 큰 값의 인덱스가 일치하는지 확인\n"
   ]
  },
  {
   "cell_type": "markdown",
   "id": "169bea08",
   "metadata": {},
   "source": [
    "### Sort by Using Top-K"
   ]
  },
  {
   "cell_type": "code",
   "execution_count": 34,
   "id": "88a122ea",
   "metadata": {},
   "outputs": [
    {
     "name": "stdout",
     "output_type": "stream",
     "text": [
      "values: tensor([[[ 4,  3,  2,  1,  0],\n",
      "         [ 8,  7,  6,  5,  4],\n",
      "         [12, 11, 10,  9,  8],\n",
      "         [16, 15, 14, 13, 12]],\n",
      "\n",
      "        [[24, 23, 22, 21, 20],\n",
      "         [28, 27, 26, 25, 24],\n",
      "         [32, 31, 30, 29, 28],\n",
      "         [36, 35, 34, 33, 32]],\n",
      "\n",
      "        [[44, 43, 42, 41, 40],\n",
      "         [48, 47, 46, 45, 44],\n",
      "         [52, 51, 50, 49, 48],\n",
      "         [56, 55, 54, 53, 52]]]), size: torch.Size([3, 4, 5])\n"
     ]
    }
   ],
   "source": [
    "target_dim = -1\n",
    "values, indices = torch.topk(x, k=x.size(target_dim), largest=True)\n",
    "print(f\"values: {values}, size: {values.size()}\")"
   ]
  },
  {
   "cell_type": "markdown",
   "id": "058b6dca",
   "metadata": {},
   "source": [
    "#### Topk by using Sort"
   ]
  },
  {
   "cell_type": "code",
   "execution_count": 37,
   "id": "9410e983",
   "metadata": {},
   "outputs": [
    {
     "name": "stdout",
     "output_type": "stream",
     "text": [
      "values.squeeze(-1): tensor([[ 4,  8, 12, 16],\n",
      "        [24, 28, 32, 36],\n",
      "        [44, 48, 52, 56]]), size: torch.Size([3, 4])\n",
      "indices.squeeze(-1): tensor([[4, 4, 4, 4],\n",
      "        [4, 4, 4, 4],\n",
      "        [4, 4, 4, 4]]), size: torch.Size([3, 4])\n"
     ]
    }
   ],
   "source": [
    "k = 1\n",
    "values, indices = torch.sort(x, dim=target_dim, descending=True)\n",
    "values, indices = values[:, :, :k], indices[:, :, :k]\n",
    "print(f\"values.squeeze(-1): {values.squeeze(-1)}, size: {values.squeeze(-1).size()}\")  # 3x4 Tensor\n",
    "print(f\"indices.squeeze(-1): {indices.squeeze(-1)}, size: {indices.squeeze(-1).size()}\")  # 3x4 Tensor"
   ]
  },
  {
   "cell_type": "markdown",
   "id": "e21404f2",
   "metadata": {},
   "source": [
    "#### Masked_fill: fill the value if element of mask is True"
   ]
  },
  {
   "cell_type": "code",
   "execution_count": null,
   "id": "18fc4880",
   "metadata": {},
   "outputs": [
    {
     "name": "stdout",
     "output_type": "stream",
     "text": [
      "x: tensor([[0., 1., 2.],\n",
      "        [3., 4., 5.],\n",
      "        [6., 7., 8.]]), size: torch.Size([3, 3])\n"
     ]
    }
   ],
   "source": [
    "x = torch.FloatTensor([i for i in range(3**2)]).reshape(3, -1)\n",
    "print(f\"x: {x}, size: {x.size()}\")  # 3x3 Tensor"
   ]
  },
  {
   "cell_type": "code",
   "execution_count": 40,
   "id": "f6def2da",
   "metadata": {},
   "outputs": [
    {
     "name": "stdout",
     "output_type": "stream",
     "text": [
      "mask: tensor([[False, False, False],\n",
      "        [False, False,  True],\n",
      "        [ True,  True,  True]])\n"
     ]
    }
   ],
   "source": [
    "mask = x > 4\n",
    "print(f\"mask: {mask}\")  # 3"
   ]
  },
  {
   "cell_type": "code",
   "execution_count": 43,
   "id": "33ae8b30",
   "metadata": {},
   "outputs": [
    {
     "name": "stdout",
     "output_type": "stream",
     "text": [
      "y: tensor([[ 0.,  1.,  2.],\n",
      "        [ 3.,  4., -1.],\n",
      "        [-1., -1., -1.]]), size: torch.Size([3, 3])\n"
     ]
    }
   ],
   "source": [
    "## Masking이 된곳에 채워 넣어라.\n",
    "y = x.masked_fill(mask, value=-1)\n",
    "print(f\"y: {y}, size: {y.size()}\")  # 3"
   ]
  },
  {
   "cell_type": "markdown",
   "id": "af295222",
   "metadata": {},
   "source": [
    "#### Ones and Zeros"
   ]
  },
  {
   "cell_type": "code",
   "execution_count": 44,
   "id": "2f8e84fd",
   "metadata": {},
   "outputs": [
    {
     "name": "stdout",
     "output_type": "stream",
     "text": [
      "torch.ones(2, 3): tensor([[1., 1., 1.],\n",
      "        [1., 1., 1.]])\n",
      "torch.zeros(2, 3): tensor([[0., 0., 0.],\n",
      "        [0., 0., 0.]])\n"
     ]
    }
   ],
   "source": [
    "print(f\"torch.ones(2, 3): {torch.ones(2, 3)}\")  # 2x3 Tensor of ones\n",
    "print(f\"torch.zeros(2, 3): {torch.zeros(2, 3)}\")  # 2x3 Tensor of zeros"
   ]
  },
  {
   "cell_type": "code",
   "execution_count": null,
   "id": "f1297ce8",
   "metadata": {},
   "outputs": [
    {
     "name": "stdout",
     "output_type": "stream",
     "text": [
      "torch.ones_like(x): tensor([[1., 1., 1.],\n",
      "        [1., 1., 1.]])\n"
     ]
    }
   ],
   "source": [
    "x = torch.FloatTensor(2, 3)\n",
    "print(f\"torch.ones_like(x): {torch.ones_like(x)}\")  # 2x3 Tensor of ones\n",
    "print(f\"torch.zeros_like(x): {torch.zeros_like(x)}\")  # 2\n"
   ]
  },
  {
   "cell_type": "code",
   "execution_count": null,
   "id": "17063f0f",
   "metadata": {},
   "outputs": [],
   "source": []
  }
 ],
 "metadata": {
  "kernelspec": {
   "display_name": "dlenv",
   "language": "python",
   "name": "python3"
  },
  "language_info": {
   "codemirror_mode": {
    "name": "ipython",
    "version": 3
   },
   "file_extension": ".py",
   "mimetype": "text/x-python",
   "name": "python",
   "nbconvert_exporter": "python",
   "pygments_lexer": "ipython3",
   "version": "3.12.3"
  }
 },
 "nbformat": 4,
 "nbformat_minor": 5
}
