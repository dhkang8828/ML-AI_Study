{
 "cells": [
  {
   "cell_type": "markdown",
   "id": "bff94e43",
   "metadata": {},
   "source": [
    "## Hello Pythorch"
   ]
  },
  {
   "cell_type": "code",
   "execution_count": 1,
   "id": "47c41e1b",
   "metadata": {},
   "outputs": [],
   "source": [
    "import torch\n"
   ]
  },
  {
   "cell_type": "code",
   "execution_count": 2,
   "id": "9d6f8691",
   "metadata": {},
   "outputs": [],
   "source": [
    "a = torch.FloatTensor([[1,2],[3,4]])\n",
    "b = torch.FloatTensor([[1,2],\n",
    "                       [1,2]])"
   ]
  },
  {
   "cell_type": "code",
   "execution_count": null,
   "id": "6f678a81",
   "metadata": {},
   "outputs": [],
   "source": [
    "c = torch.matmul(a, b)\n",
    "print(f\"c:{c}\")"
   ]
  }
 ],
 "metadata": {
  "kernelspec": {
   "display_name": "dlenv",
   "language": "python",
   "name": "python3"
  },
  "language_info": {
   "codemirror_mode": {
    "name": "ipython",
    "version": 3
   },
   "file_extension": ".py",
   "mimetype": "text/x-python",
   "name": "python",
   "nbconvert_exporter": "python",
   "pygments_lexer": "ipython3",
   "version": "3.12.3"
  }
 },
 "nbformat": 4,
 "nbformat_minor": 5
}
