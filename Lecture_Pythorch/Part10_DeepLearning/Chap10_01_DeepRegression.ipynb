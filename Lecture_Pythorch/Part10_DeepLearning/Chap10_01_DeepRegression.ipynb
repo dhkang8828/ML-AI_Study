{
 "cells": [
  {
   "cell_type": "markdown",
   "id": "c6bab54a",
   "metadata": {},
   "source": [
    "## Deep Regresion"
   ]
  },
  {
   "cell_type": "markdown",
   "id": "cb923cc3",
   "metadata": {},
   "source": [
    "### Load Dataset from Sklearn"
   ]
  },
  {
   "cell_type": "code",
   "execution_count": 2,
   "id": "9a2ca117",
   "metadata": {},
   "outputs": [],
   "source": [
    "import pandas as pd\n",
    "import seaborn as sns\n",
    "import matplotlib.pyplot as plt"
   ]
  },
  {
   "cell_type": "code",
   "execution_count": 3,
   "id": "bf36e2a9",
   "metadata": {},
   "outputs": [],
   "source": [
    "from sklearn.preprocessing import StandardScaler"
   ]
  },
  {
   "cell_type": "code",
   "execution_count": 4,
   "id": "71353c3f",
   "metadata": {},
   "outputs": [
    {
     "name": "stdout",
     "output_type": "stream",
     "text": [
      "**Author**:   \n",
      "**Source**: Unknown - Date unknown  \n",
      "**Please cite**:   \n",
      "\n",
      "The Boston house-price data of Harrison, D. and Rubinfeld, D.L. 'Hedonic\n",
      "prices and the demand for clean air', J. Environ. Economics & Management,\n",
      "vol.5, 81-102, 1978.   Used in Belsley, Kuh & Welsch, 'Regression diagnostics\n",
      "...', Wiley, 1980.   N.B. Various transformations are used in the table on\n",
      "pages 244-261 of the latter.\n",
      "Variables in order:\n",
      "CRIM     per capita crime rate by town\n",
      "ZN       proportion of residential land zoned for lots over 25,000 sq.ft.\n",
      "INDUS    proportion of non-retail business acres per town\n",
      "CHAS     Charles River dummy variable (= 1 if tract bounds river; 0 otherwise)\n",
      "NOX      nitric oxides concentration (parts per 10 million)\n",
      "RM       average number of rooms per dwelling\n",
      "AGE      proportion of owner-occupied units built prior to 1940\n",
      "DIS      weighted distances to five Boston employment centres\n",
      "RAD      index of accessibility to radial highways\n",
      "TAX      full-value property-tax rate per $10,000\n",
      "PTRATIO  pupil-teacher ratio by town\n",
      "B        1000(Bk - 0.63)^2 where Bk is the proportion of blacks by town\n",
      "LSTAT    % lower status of the population\n",
      "MEDV     Median value of owner-occupied homes in $1000's\n",
      "\n",
      "\n",
      "Information about the dataset\n",
      "CLASSTYPE: numeric\n",
      "CLASSINDEX: last\n",
      "\n",
      "Downloaded from openml.org.\n"
     ]
    },
    {
     "name": "stderr",
     "output_type": "stream",
     "text": [
      "/home/dhkang/data3/work/AI_Study/ML-AI_Study/dlenv/lib/python3.12/site-packages/sklearn/datasets/_openml.py:324: UserWarning: Multiple active versions of the dataset matching the name boston exist. Versions may be fundamentally different, returning version 1. Available versions:\n",
      "- version 1, status: active\n",
      "  url: https://www.openml.org/search?type=data&id=531\n",
      "- version 2, status: active\n",
      "  url: https://www.openml.org/search?type=data&id=853\n",
      "\n",
      "  warn(warning_msg)\n"
     ]
    }
   ],
   "source": [
    "from sklearn.datasets import fetch_openml\n",
    "boston = fetch_openml(name='boston')\n",
    "print(boston.DESCR)"
   ]
  },
  {
   "cell_type": "code",
   "execution_count": 5,
   "id": "3238a98c",
   "metadata": {},
   "outputs": [
    {
     "data": {
      "text/html": [
       "<div>\n",
       "<style scoped>\n",
       "    .dataframe tbody tr th:only-of-type {\n",
       "        vertical-align: middle;\n",
       "    }\n",
       "\n",
       "    .dataframe tbody tr th {\n",
       "        vertical-align: top;\n",
       "    }\n",
       "\n",
       "    .dataframe thead th {\n",
       "        text-align: right;\n",
       "    }\n",
       "</style>\n",
       "<table border=\"1\" class=\"dataframe\">\n",
       "  <thead>\n",
       "    <tr style=\"text-align: right;\">\n",
       "      <th></th>\n",
       "      <th>CRIM</th>\n",
       "      <th>ZN</th>\n",
       "      <th>INDUS</th>\n",
       "      <th>CHAS</th>\n",
       "      <th>NOX</th>\n",
       "      <th>RM</th>\n",
       "      <th>AGE</th>\n",
       "      <th>DIS</th>\n",
       "      <th>RAD</th>\n",
       "      <th>TAX</th>\n",
       "      <th>PTRATIO</th>\n",
       "      <th>B</th>\n",
       "      <th>LSTAT</th>\n",
       "      <th>TARGET</th>\n",
       "    </tr>\n",
       "  </thead>\n",
       "  <tbody>\n",
       "    <tr>\n",
       "      <th>501</th>\n",
       "      <td>0.06263</td>\n",
       "      <td>0.0</td>\n",
       "      <td>11.93</td>\n",
       "      <td>0</td>\n",
       "      <td>0.573</td>\n",
       "      <td>6.593</td>\n",
       "      <td>69.1</td>\n",
       "      <td>2.4786</td>\n",
       "      <td>1</td>\n",
       "      <td>273.0</td>\n",
       "      <td>21.0</td>\n",
       "      <td>391.99</td>\n",
       "      <td>9.67</td>\n",
       "      <td>22.4</td>\n",
       "    </tr>\n",
       "    <tr>\n",
       "      <th>502</th>\n",
       "      <td>0.04527</td>\n",
       "      <td>0.0</td>\n",
       "      <td>11.93</td>\n",
       "      <td>0</td>\n",
       "      <td>0.573</td>\n",
       "      <td>6.120</td>\n",
       "      <td>76.7</td>\n",
       "      <td>2.2875</td>\n",
       "      <td>1</td>\n",
       "      <td>273.0</td>\n",
       "      <td>21.0</td>\n",
       "      <td>396.90</td>\n",
       "      <td>9.08</td>\n",
       "      <td>20.6</td>\n",
       "    </tr>\n",
       "    <tr>\n",
       "      <th>503</th>\n",
       "      <td>0.06076</td>\n",
       "      <td>0.0</td>\n",
       "      <td>11.93</td>\n",
       "      <td>0</td>\n",
       "      <td>0.573</td>\n",
       "      <td>6.976</td>\n",
       "      <td>91.0</td>\n",
       "      <td>2.1675</td>\n",
       "      <td>1</td>\n",
       "      <td>273.0</td>\n",
       "      <td>21.0</td>\n",
       "      <td>396.90</td>\n",
       "      <td>5.64</td>\n",
       "      <td>23.9</td>\n",
       "    </tr>\n",
       "    <tr>\n",
       "      <th>504</th>\n",
       "      <td>0.10959</td>\n",
       "      <td>0.0</td>\n",
       "      <td>11.93</td>\n",
       "      <td>0</td>\n",
       "      <td>0.573</td>\n",
       "      <td>6.794</td>\n",
       "      <td>89.3</td>\n",
       "      <td>2.3889</td>\n",
       "      <td>1</td>\n",
       "      <td>273.0</td>\n",
       "      <td>21.0</td>\n",
       "      <td>393.45</td>\n",
       "      <td>6.48</td>\n",
       "      <td>22.0</td>\n",
       "    </tr>\n",
       "    <tr>\n",
       "      <th>505</th>\n",
       "      <td>0.04741</td>\n",
       "      <td>0.0</td>\n",
       "      <td>11.93</td>\n",
       "      <td>0</td>\n",
       "      <td>0.573</td>\n",
       "      <td>6.030</td>\n",
       "      <td>80.8</td>\n",
       "      <td>2.5050</td>\n",
       "      <td>1</td>\n",
       "      <td>273.0</td>\n",
       "      <td>21.0</td>\n",
       "      <td>396.90</td>\n",
       "      <td>7.88</td>\n",
       "      <td>11.9</td>\n",
       "    </tr>\n",
       "  </tbody>\n",
       "</table>\n",
       "</div>"
      ],
      "text/plain": [
       "        CRIM   ZN  INDUS CHAS    NOX     RM   AGE     DIS RAD    TAX  PTRATIO  \\\n",
       "501  0.06263  0.0  11.93    0  0.573  6.593  69.1  2.4786   1  273.0     21.0   \n",
       "502  0.04527  0.0  11.93    0  0.573  6.120  76.7  2.2875   1  273.0     21.0   \n",
       "503  0.06076  0.0  11.93    0  0.573  6.976  91.0  2.1675   1  273.0     21.0   \n",
       "504  0.10959  0.0  11.93    0  0.573  6.794  89.3  2.3889   1  273.0     21.0   \n",
       "505  0.04741  0.0  11.93    0  0.573  6.030  80.8  2.5050   1  273.0     21.0   \n",
       "\n",
       "          B  LSTAT  TARGET  \n",
       "501  391.99   9.67    22.4  \n",
       "502  396.90   9.08    20.6  \n",
       "503  396.90   5.64    23.9  \n",
       "504  393.45   6.48    22.0  \n",
       "505  396.90   7.88    11.9  "
      ]
     },
     "execution_count": 5,
     "metadata": {},
     "output_type": "execute_result"
    }
   ],
   "source": [
    "df = pd.DataFrame(boston.data, columns=boston.feature_names)\n",
    "df['TARGET'] = boston.target\n",
    "df.tail()"
   ]
  },
  {
   "cell_type": "markdown",
   "id": "05441596",
   "metadata": {},
   "source": [
    "### Standard-Scaler"
   ]
  },
  {
   "cell_type": "code",
   "execution_count": 6,
   "id": "41c1bf0f",
   "metadata": {},
   "outputs": [
    {
     "name": "stderr",
     "output_type": "stream",
     "text": [
      "/tmp/ipykernel_358787/3517555607.py:8: FutureWarning: Setting an item of incompatible dtype is deprecated and will raise in a future error of pandas. Value '[-0.27259857 -0.27259857 -0.27259857 -0.27259857 -0.27259857 -0.27259857\n",
      " -0.27259857 -0.27259857 -0.27259857 -0.27259857 -0.27259857 -0.27259857\n",
      " -0.27259857 -0.27259857 -0.27259857 -0.27259857 -0.27259857 -0.27259857\n",
      " -0.27259857 -0.27259857 -0.27259857 -0.27259857 -0.27259857 -0.27259857\n",
      " -0.27259857 -0.27259857 -0.27259857 -0.27259857 -0.27259857 -0.27259857\n",
      " -0.27259857 -0.27259857 -0.27259857 -0.27259857 -0.27259857 -0.27259857\n",
      " -0.27259857 -0.27259857 -0.27259857 -0.27259857 -0.27259857 -0.27259857\n",
      " -0.27259857 -0.27259857 -0.27259857 -0.27259857 -0.27259857 -0.27259857\n",
      " -0.27259857 -0.27259857 -0.27259857 -0.27259857 -0.27259857 -0.27259857\n",
      " -0.27259857 -0.27259857 -0.27259857 -0.27259857 -0.27259857 -0.27259857\n",
      " -0.27259857 -0.27259857 -0.27259857 -0.27259857 -0.27259857 -0.27259857\n",
      " -0.27259857 -0.27259857 -0.27259857 -0.27259857 -0.27259857 -0.27259857\n",
      " -0.27259857 -0.27259857 -0.27259857 -0.27259857 -0.27259857 -0.27259857\n",
      " -0.27259857 -0.27259857 -0.27259857 -0.27259857 -0.27259857 -0.27259857\n",
      " -0.27259857 -0.27259857 -0.27259857 -0.27259857 -0.27259857 -0.27259857\n",
      " -0.27259857 -0.27259857 -0.27259857 -0.27259857 -0.27259857 -0.27259857\n",
      " -0.27259857 -0.27259857 -0.27259857 -0.27259857 -0.27259857 -0.27259857\n",
      " -0.27259857 -0.27259857 -0.27259857 -0.27259857 -0.27259857 -0.27259857\n",
      " -0.27259857 -0.27259857 -0.27259857 -0.27259857 -0.27259857 -0.27259857\n",
      " -0.27259857 -0.27259857 -0.27259857 -0.27259857 -0.27259857 -0.27259857\n",
      " -0.27259857 -0.27259857 -0.27259857 -0.27259857 -0.27259857 -0.27259857\n",
      " -0.27259857 -0.27259857 -0.27259857 -0.27259857 -0.27259857 -0.27259857\n",
      " -0.27259857 -0.27259857 -0.27259857 -0.27259857 -0.27259857 -0.27259857\n",
      " -0.27259857 -0.27259857 -0.27259857 -0.27259857  3.66839786 -0.27259857\n",
      " -0.27259857 -0.27259857 -0.27259857 -0.27259857 -0.27259857 -0.27259857\n",
      " -0.27259857 -0.27259857  3.66839786 -0.27259857  3.66839786  3.66839786\n",
      " -0.27259857 -0.27259857 -0.27259857 -0.27259857  3.66839786 -0.27259857\n",
      "  3.66839786  3.66839786 -0.27259857 -0.27259857 -0.27259857 -0.27259857\n",
      " -0.27259857 -0.27259857 -0.27259857 -0.27259857 -0.27259857 -0.27259857\n",
      " -0.27259857 -0.27259857 -0.27259857 -0.27259857 -0.27259857 -0.27259857\n",
      " -0.27259857 -0.27259857 -0.27259857 -0.27259857 -0.27259857 -0.27259857\n",
      " -0.27259857 -0.27259857 -0.27259857 -0.27259857 -0.27259857 -0.27259857\n",
      " -0.27259857 -0.27259857 -0.27259857 -0.27259857 -0.27259857 -0.27259857\n",
      " -0.27259857 -0.27259857 -0.27259857 -0.27259857 -0.27259857 -0.27259857\n",
      " -0.27259857 -0.27259857 -0.27259857 -0.27259857  3.66839786  3.66839786\n",
      "  3.66839786  3.66839786  3.66839786 -0.27259857 -0.27259857 -0.27259857\n",
      "  3.66839786 -0.27259857  3.66839786  3.66839786  3.66839786  3.66839786\n",
      "  3.66839786 -0.27259857 -0.27259857 -0.27259857 -0.27259857 -0.27259857\n",
      " -0.27259857 -0.27259857 -0.27259857 -0.27259857 -0.27259857 -0.27259857\n",
      "  3.66839786 -0.27259857  3.66839786 -0.27259857 -0.27259857 -0.27259857\n",
      " -0.27259857 -0.27259857 -0.27259857 -0.27259857 -0.27259857 -0.27259857\n",
      " -0.27259857 -0.27259857 -0.27259857 -0.27259857 -0.27259857 -0.27259857\n",
      " -0.27259857 -0.27259857 -0.27259857 -0.27259857 -0.27259857 -0.27259857\n",
      " -0.27259857 -0.27259857 -0.27259857 -0.27259857 -0.27259857 -0.27259857\n",
      " -0.27259857 -0.27259857 -0.27259857 -0.27259857 -0.27259857  3.66839786\n",
      " -0.27259857 -0.27259857 -0.27259857  3.66839786  3.66839786 -0.27259857\n",
      "  3.66839786  3.66839786 -0.27259857 -0.27259857 -0.27259857 -0.27259857\n",
      "  3.66839786  3.66839786 -0.27259857 -0.27259857 -0.27259857 -0.27259857\n",
      " -0.27259857 -0.27259857 -0.27259857 -0.27259857 -0.27259857 -0.27259857\n",
      " -0.27259857 -0.27259857 -0.27259857 -0.27259857 -0.27259857 -0.27259857\n",
      " -0.27259857 -0.27259857 -0.27259857 -0.27259857 -0.27259857 -0.27259857\n",
      " -0.27259857 -0.27259857 -0.27259857 -0.27259857 -0.27259857 -0.27259857\n",
      " -0.27259857 -0.27259857 -0.27259857 -0.27259857 -0.27259857 -0.27259857\n",
      " -0.27259857 -0.27259857 -0.27259857 -0.27259857 -0.27259857 -0.27259857\n",
      " -0.27259857 -0.27259857 -0.27259857 -0.27259857 -0.27259857 -0.27259857\n",
      " -0.27259857 -0.27259857 -0.27259857 -0.27259857 -0.27259857 -0.27259857\n",
      " -0.27259857 -0.27259857 -0.27259857 -0.27259857 -0.27259857 -0.27259857\n",
      " -0.27259857 -0.27259857 -0.27259857 -0.27259857 -0.27259857 -0.27259857\n",
      " -0.27259857 -0.27259857 -0.27259857 -0.27259857 -0.27259857 -0.27259857\n",
      " -0.27259857 -0.27259857  3.66839786  3.66839786  3.66839786 -0.27259857\n",
      " -0.27259857 -0.27259857 -0.27259857  3.66839786  3.66839786 -0.27259857\n",
      " -0.27259857 -0.27259857 -0.27259857  3.66839786  3.66839786 -0.27259857\n",
      "  3.66839786 -0.27259857 -0.27259857 -0.27259857 -0.27259857 -0.27259857\n",
      " -0.27259857 -0.27259857 -0.27259857 -0.27259857 -0.27259857 -0.27259857\n",
      " -0.27259857 -0.27259857 -0.27259857 -0.27259857 -0.27259857 -0.27259857\n",
      " -0.27259857 -0.27259857 -0.27259857 -0.27259857 -0.27259857 -0.27259857\n",
      " -0.27259857 -0.27259857 -0.27259857 -0.27259857 -0.27259857 -0.27259857\n",
      " -0.27259857 -0.27259857 -0.27259857 -0.27259857 -0.27259857 -0.27259857\n",
      " -0.27259857 -0.27259857 -0.27259857 -0.27259857 -0.27259857 -0.27259857\n",
      " -0.27259857 -0.27259857 -0.27259857 -0.27259857 -0.27259857 -0.27259857\n",
      " -0.27259857 -0.27259857 -0.27259857 -0.27259857 -0.27259857 -0.27259857\n",
      " -0.27259857 -0.27259857 -0.27259857 -0.27259857 -0.27259857 -0.27259857\n",
      " -0.27259857 -0.27259857 -0.27259857 -0.27259857 -0.27259857 -0.27259857\n",
      " -0.27259857 -0.27259857 -0.27259857 -0.27259857 -0.27259857 -0.27259857\n",
      " -0.27259857 -0.27259857 -0.27259857 -0.27259857 -0.27259857 -0.27259857\n",
      " -0.27259857 -0.27259857 -0.27259857 -0.27259857 -0.27259857 -0.27259857\n",
      " -0.27259857 -0.27259857 -0.27259857 -0.27259857 -0.27259857 -0.27259857\n",
      " -0.27259857 -0.27259857 -0.27259857 -0.27259857 -0.27259857 -0.27259857\n",
      " -0.27259857 -0.27259857 -0.27259857 -0.27259857 -0.27259857 -0.27259857\n",
      " -0.27259857 -0.27259857 -0.27259857 -0.27259857 -0.27259857 -0.27259857\n",
      " -0.27259857 -0.27259857 -0.27259857 -0.27259857 -0.27259857 -0.27259857\n",
      " -0.27259857 -0.27259857 -0.27259857 -0.27259857 -0.27259857 -0.27259857\n",
      " -0.27259857 -0.27259857 -0.27259857 -0.27259857 -0.27259857 -0.27259857\n",
      " -0.27259857 -0.27259857 -0.27259857 -0.27259857 -0.27259857 -0.27259857\n",
      " -0.27259857 -0.27259857]' has dtype incompatible with category, please explicitly cast to a compatible dtype first.\n",
      "  df.loc[:, df.columns != 'TARGET'] = scaler.fit_transform(df.loc[:, df.columns != 'TARGET'])\n",
      "/tmp/ipykernel_358787/3517555607.py:8: FutureWarning: Setting an item of incompatible dtype is deprecated and will raise in a future error of pandas. Value '[-0.98284286 -0.8678825  -0.8678825  -0.75292215 -0.75292215 -0.75292215\n",
      " -0.52300145 -0.52300145 -0.52300145 -0.52300145 -0.52300145 -0.52300145\n",
      " -0.52300145 -0.6379618  -0.6379618  -0.6379618  -0.6379618  -0.6379618\n",
      " -0.6379618  -0.6379618  -0.6379618  -0.6379618  -0.6379618  -0.6379618\n",
      " -0.6379618  -0.6379618  -0.6379618  -0.6379618  -0.6379618  -0.6379618\n",
      " -0.6379618  -0.6379618  -0.6379618  -0.6379618  -0.6379618  -0.52300145\n",
      " -0.52300145 -0.52300145 -0.52300145 -0.75292215 -0.75292215 -0.75292215\n",
      " -0.75292215 -0.75292215 -0.75292215 -0.75292215 -0.75292215 -0.75292215\n",
      " -0.75292215 -0.75292215 -0.6379618  -0.6379618  -0.6379618  -0.6379618\n",
      " -0.75292215 -0.52300145 -0.8678825  -0.52300145 -0.17812039 -0.17812039\n",
      " -0.17812039 -0.17812039 -0.17812039 -0.17812039 -0.75292215 -0.6379618\n",
      " -0.6379618  -0.6379618  -0.6379618  -0.6379618  -0.6379618  -0.6379618\n",
      " -0.6379618  -0.6379618  -0.52300145 -0.52300145 -0.52300145 -0.52300145\n",
      " -0.52300145 -0.52300145 -0.6379618  -0.6379618  -0.6379618  -0.6379618\n",
      " -0.75292215 -0.75292215 -0.75292215 -0.75292215 -0.8678825  -0.8678825\n",
      " -0.8678825  -0.8678825  -0.6379618  -0.6379618  -0.6379618  -0.8678825\n",
      " -0.8678825  -0.8678825  -0.8678825  -0.8678825  -0.52300145 -0.52300145\n",
      " -0.52300145 -0.52300145 -0.52300145 -0.52300145 -0.52300145 -0.52300145\n",
      " -0.52300145 -0.52300145 -0.52300145 -0.40804109 -0.40804109 -0.40804109\n",
      " -0.40804109 -0.40804109 -0.40804109 -0.40804109 -0.40804109 -0.40804109\n",
      " -0.8678825  -0.8678825  -0.8678825  -0.8678825  -0.8678825  -0.8678825\n",
      " -0.8678825  -0.6379618  -0.6379618  -0.6379618  -0.6379618  -0.6379618\n",
      " -0.6379618  -0.6379618  -0.6379618  -0.6379618  -0.6379618  -0.6379618\n",
      " -0.6379618  -0.6379618  -0.6379618  -0.6379618  -0.52300145 -0.52300145\n",
      " -0.52300145 -0.52300145 -0.52300145 -0.52300145 -0.52300145 -0.52300145\n",
      " -0.52300145 -0.52300145 -0.52300145 -0.52300145 -0.52300145 -0.52300145\n",
      " -0.52300145 -0.52300145 -0.52300145 -0.52300145 -0.52300145 -0.52300145\n",
      " -0.52300145 -0.52300145 -0.52300145 -0.52300145 -0.52300145 -0.52300145\n",
      " -0.52300145 -0.52300145 -0.52300145 -0.52300145 -0.52300145 -0.52300145\n",
      " -0.52300145 -0.52300145 -0.52300145 -0.52300145 -0.52300145 -0.75292215\n",
      " -0.75292215 -0.75292215 -0.75292215 -0.75292215 -0.75292215 -0.75292215\n",
      " -0.75292215 -0.52300145 -0.52300145 -0.52300145 -0.52300145 -0.52300145\n",
      " -0.52300145 -0.98284286 -0.98284286 -0.6379618  -0.8678825  -0.8678825\n",
      " -0.8678825  -0.75292215 -0.75292215 -0.8678825  -0.8678825  -0.6379618\n",
      " -0.6379618  -0.6379618  -0.6379618  -0.6379618  -0.6379618  -0.6379618\n",
      " -0.6379618  -0.6379618  -0.6379618  -0.6379618  -0.6379618  -0.6379618\n",
      " -0.52300145 -0.52300145 -0.52300145 -0.52300145 -0.17812039 -0.17812039\n",
      " -0.17812039 -0.17812039 -0.17812039 -0.17812039 -0.17812039 -0.17812039\n",
      " -0.17812039 -0.17812039 -0.17812039 -0.17812039 -0.17812039 -0.17812039\n",
      " -0.17812039 -0.17812039 -0.17812039 -0.17812039 -0.40804109 -0.40804109\n",
      " -0.40804109 -0.40804109 -0.40804109 -0.40804109 -0.29308074 -0.29308074\n",
      " -0.29308074 -0.29308074 -0.29308074 -0.29308074 -0.29308074 -0.29308074\n",
      " -0.29308074 -0.29308074 -0.98284286 -0.98284286 -0.75292215 -0.52300145\n",
      " -0.52300145 -0.52300145 -0.52300145 -0.52300145 -0.52300145 -0.52300145\n",
      " -0.52300145 -0.52300145 -0.52300145 -0.52300145 -0.52300145 -0.75292215\n",
      " -0.75292215 -0.75292215 -0.75292215 -0.75292215 -0.6379618  -0.6379618\n",
      " -0.6379618  -0.6379618  -0.6379618  -0.52300145 -0.52300145 -0.52300145\n",
      " -0.52300145 -0.98284286 -0.98284286 -0.98284286 -0.98284286 -0.40804109\n",
      " -0.40804109 -0.40804109 -0.6379618  -0.6379618  -0.6379618  -0.6379618\n",
      " -0.6379618  -0.6379618  -0.6379618  -0.6379618  -0.52300145 -0.52300145\n",
      " -0.52300145 -0.29308074 -0.29308074 -0.29308074 -0.29308074 -0.29308074\n",
      " -0.29308074 -0.29308074 -0.6379618  -0.6379618  -0.6379618  -0.6379618\n",
      " -0.6379618  -0.6379618  -0.6379618  -0.6379618  -0.6379618  -0.6379618\n",
      " -0.6379618  -0.6379618  -0.52300145 -0.52300145 -0.52300145 -0.52300145\n",
      " -0.52300145 -0.52300145 -0.52300145 -0.52300145 -0.6379618  -0.6379618\n",
      " -0.6379618  -0.98284286 -0.98284286 -0.52300145 -0.52300145 -0.52300145\n",
      " -0.52300145 -0.52300145 -0.52300145 -0.52300145 -0.52300145 -0.98284286\n",
      " -0.98284286 -0.52300145 -0.52300145 -0.75292215 -0.75292215 -0.6379618\n",
      " -0.6379618  -0.98284286 -0.98284286 -0.6379618  -0.6379618  -0.52300145\n",
      " -0.6379618  -0.6379618   1.66124525  1.66124525  1.66124525  1.66124525\n",
      "  1.66124525  1.66124525  1.66124525  1.66124525  1.66124525  1.66124525\n",
      "  1.66124525  1.66124525  1.66124525  1.66124525  1.66124525  1.66124525\n",
      "  1.66124525  1.66124525  1.66124525  1.66124525  1.66124525  1.66124525\n",
      "  1.66124525  1.66124525  1.66124525  1.66124525  1.66124525  1.66124525\n",
      "  1.66124525  1.66124525  1.66124525  1.66124525  1.66124525  1.66124525\n",
      "  1.66124525  1.66124525  1.66124525  1.66124525  1.66124525  1.66124525\n",
      "  1.66124525  1.66124525  1.66124525  1.66124525  1.66124525  1.66124525\n",
      "  1.66124525  1.66124525  1.66124525  1.66124525  1.66124525  1.66124525\n",
      "  1.66124525  1.66124525  1.66124525  1.66124525  1.66124525  1.66124525\n",
      "  1.66124525  1.66124525  1.66124525  1.66124525  1.66124525  1.66124525\n",
      "  1.66124525  1.66124525  1.66124525  1.66124525  1.66124525  1.66124525\n",
      "  1.66124525  1.66124525  1.66124525  1.66124525  1.66124525  1.66124525\n",
      "  1.66124525  1.66124525  1.66124525  1.66124525  1.66124525  1.66124525\n",
      "  1.66124525  1.66124525  1.66124525  1.66124525  1.66124525  1.66124525\n",
      "  1.66124525  1.66124525  1.66124525  1.66124525  1.66124525  1.66124525\n",
      "  1.66124525  1.66124525  1.66124525  1.66124525  1.66124525  1.66124525\n",
      "  1.66124525  1.66124525  1.66124525  1.66124525  1.66124525  1.66124525\n",
      "  1.66124525  1.66124525  1.66124525  1.66124525  1.66124525  1.66124525\n",
      "  1.66124525  1.66124525  1.66124525  1.66124525  1.66124525  1.66124525\n",
      "  1.66124525  1.66124525  1.66124525  1.66124525  1.66124525  1.66124525\n",
      "  1.66124525  1.66124525  1.66124525  1.66124525  1.66124525  1.66124525\n",
      "  1.66124525  1.66124525 -0.6379618  -0.6379618  -0.6379618  -0.6379618\n",
      " -0.6379618  -0.40804109 -0.40804109 -0.40804109 -0.40804109 -0.40804109\n",
      " -0.40804109 -0.40804109 -0.40804109 -0.98284286 -0.98284286 -0.98284286\n",
      " -0.98284286 -0.98284286]' has dtype incompatible with category, please explicitly cast to a compatible dtype first.\n",
      "  df.loc[:, df.columns != 'TARGET'] = scaler.fit_transform(df.loc[:, df.columns != 'TARGET'])\n"
     ]
    },
    {
     "data": {
      "text/html": [
       "<div>\n",
       "<style scoped>\n",
       "    .dataframe tbody tr th:only-of-type {\n",
       "        vertical-align: middle;\n",
       "    }\n",
       "\n",
       "    .dataframe tbody tr th {\n",
       "        vertical-align: top;\n",
       "    }\n",
       "\n",
       "    .dataframe thead th {\n",
       "        text-align: right;\n",
       "    }\n",
       "</style>\n",
       "<table border=\"1\" class=\"dataframe\">\n",
       "  <thead>\n",
       "    <tr style=\"text-align: right;\">\n",
       "      <th></th>\n",
       "      <th>CRIM</th>\n",
       "      <th>ZN</th>\n",
       "      <th>INDUS</th>\n",
       "      <th>CHAS</th>\n",
       "      <th>NOX</th>\n",
       "      <th>RM</th>\n",
       "      <th>AGE</th>\n",
       "      <th>DIS</th>\n",
       "      <th>RAD</th>\n",
       "      <th>TAX</th>\n",
       "      <th>PTRATIO</th>\n",
       "      <th>B</th>\n",
       "      <th>LSTAT</th>\n",
       "      <th>TARGET</th>\n",
       "    </tr>\n",
       "  </thead>\n",
       "  <tbody>\n",
       "    <tr>\n",
       "      <th>501</th>\n",
       "      <td>-0.413229</td>\n",
       "      <td>-0.487722</td>\n",
       "      <td>0.115738</td>\n",
       "      <td>-0.272599</td>\n",
       "      <td>0.158124</td>\n",
       "      <td>0.439316</td>\n",
       "      <td>0.018673</td>\n",
       "      <td>-0.625796</td>\n",
       "      <td>-0.982843</td>\n",
       "      <td>-0.803212</td>\n",
       "      <td>1.176466</td>\n",
       "      <td>0.387217</td>\n",
       "      <td>-0.418147</td>\n",
       "      <td>22.4</td>\n",
       "    </tr>\n",
       "    <tr>\n",
       "      <th>502</th>\n",
       "      <td>-0.415249</td>\n",
       "      <td>-0.487722</td>\n",
       "      <td>0.115738</td>\n",
       "      <td>-0.272599</td>\n",
       "      <td>0.158124</td>\n",
       "      <td>-0.234548</td>\n",
       "      <td>0.288933</td>\n",
       "      <td>-0.716639</td>\n",
       "      <td>-0.982843</td>\n",
       "      <td>-0.803212</td>\n",
       "      <td>1.176466</td>\n",
       "      <td>0.441052</td>\n",
       "      <td>-0.500850</td>\n",
       "      <td>20.6</td>\n",
       "    </tr>\n",
       "    <tr>\n",
       "      <th>503</th>\n",
       "      <td>-0.413447</td>\n",
       "      <td>-0.487722</td>\n",
       "      <td>0.115738</td>\n",
       "      <td>-0.272599</td>\n",
       "      <td>0.158124</td>\n",
       "      <td>0.984960</td>\n",
       "      <td>0.797449</td>\n",
       "      <td>-0.773684</td>\n",
       "      <td>-0.982843</td>\n",
       "      <td>-0.803212</td>\n",
       "      <td>1.176466</td>\n",
       "      <td>0.441052</td>\n",
       "      <td>-0.983048</td>\n",
       "      <td>23.9</td>\n",
       "    </tr>\n",
       "    <tr>\n",
       "      <th>504</th>\n",
       "      <td>-0.407764</td>\n",
       "      <td>-0.487722</td>\n",
       "      <td>0.115738</td>\n",
       "      <td>-0.272599</td>\n",
       "      <td>0.158124</td>\n",
       "      <td>0.725672</td>\n",
       "      <td>0.736996</td>\n",
       "      <td>-0.668437</td>\n",
       "      <td>-0.982843</td>\n",
       "      <td>-0.803212</td>\n",
       "      <td>1.176466</td>\n",
       "      <td>0.403225</td>\n",
       "      <td>-0.865302</td>\n",
       "      <td>22.0</td>\n",
       "    </tr>\n",
       "    <tr>\n",
       "      <th>505</th>\n",
       "      <td>-0.415000</td>\n",
       "      <td>-0.487722</td>\n",
       "      <td>0.115738</td>\n",
       "      <td>-0.272599</td>\n",
       "      <td>0.158124</td>\n",
       "      <td>-0.362767</td>\n",
       "      <td>0.434732</td>\n",
       "      <td>-0.613246</td>\n",
       "      <td>-0.982843</td>\n",
       "      <td>-0.803212</td>\n",
       "      <td>1.176466</td>\n",
       "      <td>0.441052</td>\n",
       "      <td>-0.669058</td>\n",
       "      <td>11.9</td>\n",
       "    </tr>\n",
       "  </tbody>\n",
       "</table>\n",
       "</div>"
      ],
      "text/plain": [
       "         CRIM        ZN     INDUS      CHAS       NOX        RM       AGE  \\\n",
       "501 -0.413229 -0.487722  0.115738 -0.272599  0.158124  0.439316  0.018673   \n",
       "502 -0.415249 -0.487722  0.115738 -0.272599  0.158124 -0.234548  0.288933   \n",
       "503 -0.413447 -0.487722  0.115738 -0.272599  0.158124  0.984960  0.797449   \n",
       "504 -0.407764 -0.487722  0.115738 -0.272599  0.158124  0.725672  0.736996   \n",
       "505 -0.415000 -0.487722  0.115738 -0.272599  0.158124 -0.362767  0.434732   \n",
       "\n",
       "          DIS       RAD       TAX   PTRATIO         B     LSTAT  TARGET  \n",
       "501 -0.625796 -0.982843 -0.803212  1.176466  0.387217 -0.418147    22.4  \n",
       "502 -0.716639 -0.982843 -0.803212  1.176466  0.441052 -0.500850    20.6  \n",
       "503 -0.773684 -0.982843 -0.803212  1.176466  0.441052 -0.983048    23.9  \n",
       "504 -0.668437 -0.982843 -0.803212  1.176466  0.403225 -0.865302    22.0  \n",
       "505 -0.613246 -0.982843 -0.803212  1.176466  0.441052 -0.669058    11.9  "
      ]
     },
     "execution_count": 6,
     "metadata": {},
     "output_type": "execute_result"
    }
   ],
   "source": [
    "'''\n",
    "scaler = StandardScaler()\n",
    "scaler.fit(df.values[:, :-1])\n",
    "df.values[:, :-1] = scaler.transform(df.values[:, :-1])\n",
    "'''\n",
    "\n",
    "scaler = StandardScaler()\n",
    "df.loc[:, df.columns != 'TARGET'] = scaler.fit_transform(df.loc[:, df.columns != 'TARGET'])\n",
    "df.tail()"
   ]
  },
  {
   "cell_type": "markdown",
   "id": "47663019",
   "metadata": {},
   "source": [
    "### Train Model with PYTorch"
   ]
  },
  {
   "cell_type": "code",
   "execution_count": 7,
   "id": "921d0325",
   "metadata": {},
   "outputs": [],
   "source": [
    "import torch\n",
    "import torch.nn as nn\n",
    "import torch.nn.functional as F\n",
    "import torch.optim as optim"
   ]
  },
  {
   "cell_type": "code",
   "execution_count": 8,
   "id": "cfed43b0",
   "metadata": {},
   "outputs": [
    {
     "name": "stdout",
     "output_type": "stream",
     "text": [
      "data.shape: torch.Size([506, 14])\n"
     ]
    }
   ],
   "source": [
    "data = torch.from_numpy(df.values).float().cuda()\n",
    "print(f\"data.shape: {data.shape}\")"
   ]
  },
  {
   "cell_type": "code",
   "execution_count": 9,
   "id": "43d2ba3b",
   "metadata": {},
   "outputs": [
    {
     "name": "stdout",
     "output_type": "stream",
     "text": [
      "x.shape: torch.Size([506, 13]), y.shape: torch.Size([506, 1])\n"
     ]
    }
   ],
   "source": [
    "y = data[:, -1:]\n",
    "x = data[:, :-1]\n",
    "\n",
    "print(f\"x.shape: {x.shape}, y.shape: {y.shape}\")"
   ]
  },
  {
   "cell_type": "code",
   "execution_count": 10,
   "id": "7bdc41cd",
   "metadata": {},
   "outputs": [],
   "source": [
    "n_epochs = 100000\n",
    "learning_rate = 1e-4\n",
    "print_interval = 5000"
   ]
  },
  {
   "cell_type": "markdown",
   "id": "a498a6f3",
   "metadata": {},
   "source": [
    "### Build Models"
   ]
  },
  {
   "cell_type": "markdown",
   "id": "4b69d9d9",
   "metadata": {},
   "source": [
    "#### Build Model using nn.Module"
   ]
  },
  {
   "cell_type": "code",
   "execution_count": 11,
   "id": "a6b01e94",
   "metadata": {},
   "outputs": [],
   "source": [
    "relu = nn.ReLU()\n",
    "leaky_relu = nn.LeakyReLU(0.1)"
   ]
  },
  {
   "cell_type": "code",
   "execution_count": 12,
   "id": "4aac3d87",
   "metadata": {},
   "outputs": [],
   "source": [
    "class MyModel(nn.Module):\n",
    "    def __init__(self, input_dim, output_dim):\n",
    "        self.input_dim = input_dim\n",
    "        self.output_dim = output_dim\n",
    "        super().__init__()\n",
    "        \n",
    "        self.linear1 = nn.Linear(input_dim, 3).cuda()\n",
    "        self.linear2 = nn.Linear(3, 3).cuda()\n",
    "        self.linear3 = nn.Linear(3, output_dim).cuda()\n",
    "        self.act = nn.ReLU().cuda()\n",
    "        \n",
    "    def forward(self, x):\n",
    "        ## |X| = (batch_size, input_dim)\n",
    "        h = self.act(self.linear1(x))   ## |h| = (batch_size, 3)\n",
    "        h = self.act(self.linear2(h))\n",
    "        y = self.linear3(h) ## |y| = (batch_size, output_dim)\n",
    "        \n",
    "        return y "
   ]
  },
  {
   "cell_type": "code",
   "execution_count": 13,
   "id": "0b13ceea",
   "metadata": {},
   "outputs": [
    {
     "data": {
      "text/plain": [
       "MyModel(\n",
       "  (linear1): Linear(in_features=13, out_features=3, bias=True)\n",
       "  (linear2): Linear(in_features=3, out_features=3, bias=True)\n",
       "  (linear3): Linear(in_features=3, out_features=1, bias=True)\n",
       "  (act): ReLU()\n",
       ")"
      ]
     },
     "execution_count": 13,
     "metadata": {},
     "output_type": "execute_result"
    }
   ],
   "source": [
    "model = MyModel(x.size(-1), y.size(-1)).cuda()\n",
    "model"
   ]
  },
  {
   "cell_type": "markdown",
   "id": "d27a1ffa",
   "metadata": {},
   "source": [
    "### Build Model with LeakyReLU using nn.Sequential"
   ]
  },
  {
   "cell_type": "code",
   "execution_count": 14,
   "id": "f94383bc",
   "metadata": {},
   "outputs": [
    {
     "data": {
      "text/plain": [
       "Sequential(\n",
       "  (0): Linear(in_features=13, out_features=3, bias=True)\n",
       "  (1): LeakyReLU(negative_slope=0.01)\n",
       "  (2): Linear(in_features=3, out_features=3, bias=True)\n",
       "  (3): LeakyReLU(negative_slope=0.01)\n",
       "  (4): Linear(in_features=3, out_features=3, bias=True)\n",
       "  (5): LeakyReLU(negative_slope=0.01)\n",
       "  (6): Linear(in_features=3, out_features=3, bias=True)\n",
       "  (7): LeakyReLU(negative_slope=0.01)\n",
       "  (8): Linear(in_features=3, out_features=3, bias=True)\n",
       "  (9): LeakyReLU(negative_slope=0.01)\n",
       "  (10): Linear(in_features=3, out_features=1, bias=True)\n",
       ")"
      ]
     },
     "execution_count": 14,
     "metadata": {},
     "output_type": "execute_result"
    }
   ],
   "source": [
    "model = nn.Sequential(\n",
    "    nn.Linear(x.size(-1), 3),\n",
    "    nn.LeakyReLU(),\n",
    "    nn.Linear(3, 3),\n",
    "    nn.LeakyReLU(),\n",
    "    nn.Linear(3, 3),\n",
    "    nn.LeakyReLU(),\n",
    "    nn.Linear(3, 3),\n",
    "    nn.LeakyReLU(),\n",
    "    nn.Linear(3, 3),\n",
    "    nn.LeakyReLU(),\n",
    "    nn.Linear(3, y.size(-1)),\n",
    ").cuda()\n",
    "\n",
    "model"
   ]
  },
  {
   "cell_type": "code",
   "execution_count": 15,
   "id": "055ac44a",
   "metadata": {},
   "outputs": [],
   "source": [
    "optimizer = optim.SGD(model.parameters(), lr=learning_rate)"
   ]
  },
  {
   "cell_type": "code",
   "execution_count": 16,
   "id": "2c290098",
   "metadata": {},
   "outputs": [
    {
     "name": "stdout",
     "output_type": "stream",
     "text": [
      "Epoch 5000: loss=8.4437e+01\n",
      "Epoch 10000: loss=8.4428e+01\n",
      "Epoch 15000: loss=8.4422e+01\n",
      "Epoch 20000: loss=8.4416e+01\n",
      "Epoch 25000: loss=8.4409e+01\n",
      "Epoch 30000: loss=8.4400e+01\n",
      "Epoch 35000: loss=8.4384e+01\n",
      "Epoch 40000: loss=1.3018e+01\n",
      "Epoch 45000: loss=9.3516e+00\n",
      "Epoch 50000: loss=8.8060e+00\n",
      "Epoch 55000: loss=8.6346e+00\n",
      "Epoch 60000: loss=8.4424e+00\n",
      "Epoch 65000: loss=8.3653e+00\n",
      "Epoch 70000: loss=8.2623e+00\n",
      "Epoch 75000: loss=8.2328e+00\n",
      "Epoch 80000: loss=8.2168e+00\n",
      "Epoch 85000: loss=8.1709e+00\n",
      "Epoch 90000: loss=8.1581e+00\n",
      "Epoch 95000: loss=8.1495e+00\n",
      "Epoch 100000: loss=8.1430e+00\n"
     ]
    }
   ],
   "source": [
    "for i in range(n_epochs):\n",
    "    y_hat = model(x)\n",
    "    loss = F.mse_loss(y_hat, y)\n",
    "    \n",
    "    optimizer.zero_grad()\n",
    "    loss.backward()\n",
    "    optimizer.step()\n",
    "    \n",
    "    if (i+1) % print_interval == 0:\n",
    "        print('Epoch %d: loss=%.4e' % (i+1, loss))"
   ]
  },
  {
   "cell_type": "markdown",
   "id": "8434f465",
   "metadata": {},
   "source": [
    "### Let's check the result"
   ]
  },
  {
   "cell_type": "code",
   "execution_count": 17,
   "id": "d7d8542a",
   "metadata": {},
   "outputs": [
    {
     "name": "stderr",
     "output_type": "stream",
     "text": [
      "/home/dhkang/data3/work/AI_Study/ML-AI_Study/dlenv/lib/python3.12/site-packages/seaborn/axisgrid.py:2100: UserWarning: The `size` parameter has been renamed to `height`; please update your code.\n",
      "  warnings.warn(msg, UserWarning)\n"
     ]
    },
    {
     "data": {
      "image/png": "[encoded data removed]",
      "text/plain": [
       "<Figure size 1000x1000 with 6 Axes>"
      ]
     },
     "metadata": {},
     "output_type": "display_data"
    }
   ],
   "source": [
    "df = pd.DataFrame(torch.cat([y, y_hat], dim=1).cpu().detach().numpy(), columns=['y', 'y_hat'])\n",
    "sns. pairplot(df, size=5)\n",
    "plt.show()"
   ]
  },
  {
   "cell_type": "code",
   "execution_count": null,
   "id": "636f860d",
   "metadata": {},
   "outputs": [],
   "source": []
  }
 ],
 "metadata": {
  "kernelspec": {
   "display_name": "dlenv",
   "language": "python",
   "name": "python3"
  },
  "language_info": {
   "codemirror_mode": {
    "name": "ipython",
    "version": 3
   },
   "file_extension": ".py",
   "mimetype": "text/x-python",
   "name": "python",
   "nbconvert_exporter": "python",
   "pygments_lexer": "ipython3",
   "version": "3.12.3"
  }
 },
 "nbformat": 4,
 "nbformat_minor": 5
}
