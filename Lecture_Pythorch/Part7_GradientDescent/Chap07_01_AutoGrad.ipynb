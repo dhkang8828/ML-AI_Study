{
 "cells": [
  {
   "cell_type": "markdown",
   "id": "4703b64b",
   "metadata": {},
   "source": [
    "### PyTorch AutoGrad"
   ]
  },
  {
   "cell_type": "code",
   "execution_count": 15,
   "id": "8bcab1fe",
   "metadata": {},
   "outputs": [],
   "source": [
    "import torch"
   ]
  },
  {
   "cell_type": "code",
   "execution_count": null,
   "id": "68fe4819",
   "metadata": {},
   "outputs": [],
   "source": [
    "x = torch.FloatTensor([[1, 2],\n",
    "                       [3, 4]]).requires_grad_(True)\n",
    "## 미분에 참여될 것임을 암시 = requires_grad"
   ]
  },
  {
   "cell_type": "code",
   "execution_count": null,
   "id": "4d5b3bae",
   "metadata": {},
   "outputs": [
    {
     "name": "stdout",
     "output_type": "stream",
     "text": [
      "x1: tensor([[3., 4.],\n",
      "        [5., 6.]], device='cuda:0', grad_fn=<AddBackward0>)\n",
      "x2: tensor([[-1.,  0.],\n",
      "        [ 1.,  2.]], device='cuda:0', grad_fn=<SubBackward0>)\n",
      "x3: tensor([[-3.,  0.],\n",
      "        [ 5., 12.]], device='cuda:0', grad_fn=<MulBackward0>)\n",
      "y: 14.0\n"
     ]
    }
   ],
   "source": [
    "x1 = x + 2\n",
    "x2 = x - 2\n",
    "x3 = x1 * x2\n",
    "y = x3.sum()\n",
    "\n",
    "\n",
    "print(f\"x1: {x1}\") \n",
    "print(f\"x2: {x2}\")\n",
    "print(f\"x3: {x3}\")\n",
    "print(f\"y: {y}\")"
   ]
  },
  {
   "cell_type": "code",
   "execution_count": 18,
   "id": "940cd847",
   "metadata": {},
   "outputs": [
    {
     "name": "stdout",
     "output_type": "stream",
     "text": [
      "x.grad: None\n"
     ]
    },
    {
     "name": "stderr",
     "output_type": "stream",
     "text": [
      "/tmp/ipykernel_3414/34004649.py:3: UserWarning: The .grad attribute of a Tensor that is not a leaf Tensor is being accessed. Its .grad attribute won't be populated during autograd.backward(). If you indeed want the .grad field to be populated for a non-leaf Tensor, use .retain_grad() on the non-leaf Tensor. If you access the non-leaf Tensor by mistake, make sure you access the leaf Tensor instead. See github.com/pytorch/pytorch/pull/30531 for more informations. (Triggered internally at /pytorch/build/aten/src/ATen/core/TensorBody.h:489.)\n",
      "  print(f\"x.grad: {x.grad}\") ## y' = 2x\n"
     ]
    }
   ],
   "source": [
    "y.backward()    ## 나중에 다시 살펴볼텐데 미분할거라는 의미\n",
    "\n",
    "print(f\"x.grad: {x.grad}\") ## y' = 2x \n"
   ]
  },
  {
   "cell_type": "code",
   "execution_count": null,
   "id": "6f08812c",
   "metadata": {},
   "outputs": [],
   "source": []
  }
 ],
 "metadata": {
  "kernelspec": {
   "display_name": "dlenv",
   "language": "python",
   "name": "python3"
  },
  "language_info": {
   "codemirror_mode": {
    "name": "ipython",
    "version": 3
   },
   "file_extension": ".py",
   "mimetype": "text/x-python",
   "name": "python",
   "nbconvert_exporter": "python",
   "pygments_lexer": "ipython3",
   "version": "3.12.3"
  }
 },
 "nbformat": 4,
 "nbformat_minor": 5
}
